{
 "cells": [
  {
   "cell_type": "markdown",
   "metadata": {},
   "source": [
    "## Final Project Submission\n",
    "\n",
    "Please fill out:\n",
    "* Student name: Matilda Odalo, Mark Bundi, Charles Kagwanja, Wycliffe Orimba\n",
    "* Student pace:  part time \n",
    "* Scheduled project review date/time: \n",
    "* Instructor name: \n",
    "* Blog post URL: https://github.com/MarkusPinto/dsc-phase-2-project-v2-3.git"
   ]
  },
  {
   "cell_type": "markdown",
   "metadata": {
    "id": "q5AmbbHjzbx9"
   },
   "source": [
    "## Business Problem"
   ]
  },
  {
   "cell_type": "markdown",
   "metadata": {},
   "source": [
    "The business problem in this scenario involves providing homeowners with advice on how to increase the estimated value of their homes through renovation projects"
   ]
  },
  {
   "cell_type": "markdown",
   "metadata": {
    "id": "Bg4xHhv0zgWM"
   },
   "source": [
    "## Data Understanding"
   ]
  },
  {
   "cell_type": "markdown",
   "metadata": {},
   "source": [
    "This project uses the King County House Sales dataset, which can be found in kc_house_data.csv. \n",
    "\n",
    "The data is used to create regression models that predict the trend of house prices in relation to specific varibles"
   ]
  },
  {
   "cell_type": "code",
   "execution_count": 4,
   "metadata": {
    "id": "fANW-Y1pz0G7"
   },
   "outputs": [],
   "source": [
    "#importing necessary libraries\n",
    "\n",
    "import pandas as pd\n",
    "import numpy as np\n",
    "import statsmodels.api as sm\n",
    "import matplotlib.pyplot as plt\n",
    "%matplotlib inline\n",
    "\n",
    "import seaborn as sns\n",
    "import datetime as dt\n",
    "import math\n",
    "from sklearn.linear_model import LinearRegression\n",
    "from sklearn.metrics import mean_squared_error\n",
    "from sklearn.preprocessing import PolynomialFeatures\n",
    "from sklearn.model_selection import train_test_split\n",
    "from sklearn.preprocessing import StandardScaler\n",
    "from sklearn.model_selection import cross_validate\n",
    "from sklearn.preprocessing import MinMaxScaler\n",
    "import statsmodels.api as sm\n",
    "from statsmodels.formula.api import ols\n",
    "import scipy.stats as stats\n",
    "from statsmodels.stats.outliers_influence import variance_inflation_factor"
   ]
  },
  {
   "cell_type": "code",
   "execution_count": 5,
   "metadata": {
    "colab": {
     "base_uri": "https://localhost:8080/",
     "height": 325
    },
    "id": "EaGgS0xhz0Dh",
    "outputId": "fae37e51-5140-4f1e-afea-2d7d82c4b9d9"
   },
   "outputs": [
    {
     "data": {
      "text/html": [
       "<div>\n",
       "<style scoped>\n",
       "    .dataframe tbody tr th:only-of-type {\n",
       "        vertical-align: middle;\n",
       "    }\n",
       "\n",
       "    .dataframe tbody tr th {\n",
       "        vertical-align: top;\n",
       "    }\n",
       "\n",
       "    .dataframe thead th {\n",
       "        text-align: right;\n",
       "    }\n",
       "</style>\n",
       "<table border=\"1\" class=\"dataframe\">\n",
       "  <thead>\n",
       "    <tr style=\"text-align: right;\">\n",
       "      <th></th>\n",
       "      <th>id</th>\n",
       "      <th>date</th>\n",
       "      <th>price</th>\n",
       "      <th>bedrooms</th>\n",
       "      <th>bathrooms</th>\n",
       "      <th>sqft_living</th>\n",
       "      <th>sqft_lot</th>\n",
       "      <th>floors</th>\n",
       "      <th>waterfront</th>\n",
       "      <th>view</th>\n",
       "      <th>...</th>\n",
       "      <th>grade</th>\n",
       "      <th>sqft_above</th>\n",
       "      <th>sqft_basement</th>\n",
       "      <th>yr_built</th>\n",
       "      <th>yr_renovated</th>\n",
       "      <th>zipcode</th>\n",
       "      <th>lat</th>\n",
       "      <th>long</th>\n",
       "      <th>sqft_living15</th>\n",
       "      <th>sqft_lot15</th>\n",
       "    </tr>\n",
       "  </thead>\n",
       "  <tbody>\n",
       "    <tr>\n",
       "      <th>0</th>\n",
       "      <td>7129300520</td>\n",
       "      <td>10/13/2014</td>\n",
       "      <td>221900.0</td>\n",
       "      <td>3</td>\n",
       "      <td>1.00</td>\n",
       "      <td>1180</td>\n",
       "      <td>5650</td>\n",
       "      <td>1.0</td>\n",
       "      <td>NaN</td>\n",
       "      <td>NONE</td>\n",
       "      <td>...</td>\n",
       "      <td>7 Average</td>\n",
       "      <td>1180</td>\n",
       "      <td>0.0</td>\n",
       "      <td>1955</td>\n",
       "      <td>0.0</td>\n",
       "      <td>98178</td>\n",
       "      <td>47.5112</td>\n",
       "      <td>-122.257</td>\n",
       "      <td>1340</td>\n",
       "      <td>5650</td>\n",
       "    </tr>\n",
       "    <tr>\n",
       "      <th>1</th>\n",
       "      <td>6414100192</td>\n",
       "      <td>12/9/2014</td>\n",
       "      <td>538000.0</td>\n",
       "      <td>3</td>\n",
       "      <td>2.25</td>\n",
       "      <td>2570</td>\n",
       "      <td>7242</td>\n",
       "      <td>2.0</td>\n",
       "      <td>NO</td>\n",
       "      <td>NONE</td>\n",
       "      <td>...</td>\n",
       "      <td>7 Average</td>\n",
       "      <td>2170</td>\n",
       "      <td>400.0</td>\n",
       "      <td>1951</td>\n",
       "      <td>1991.0</td>\n",
       "      <td>98125</td>\n",
       "      <td>47.7210</td>\n",
       "      <td>-122.319</td>\n",
       "      <td>1690</td>\n",
       "      <td>7639</td>\n",
       "    </tr>\n",
       "    <tr>\n",
       "      <th>2</th>\n",
       "      <td>5631500400</td>\n",
       "      <td>2/25/2015</td>\n",
       "      <td>180000.0</td>\n",
       "      <td>2</td>\n",
       "      <td>1.00</td>\n",
       "      <td>770</td>\n",
       "      <td>10000</td>\n",
       "      <td>1.0</td>\n",
       "      <td>NO</td>\n",
       "      <td>NONE</td>\n",
       "      <td>...</td>\n",
       "      <td>6 Low Average</td>\n",
       "      <td>770</td>\n",
       "      <td>0.0</td>\n",
       "      <td>1933</td>\n",
       "      <td>NaN</td>\n",
       "      <td>98028</td>\n",
       "      <td>47.7379</td>\n",
       "      <td>-122.233</td>\n",
       "      <td>2720</td>\n",
       "      <td>8062</td>\n",
       "    </tr>\n",
       "    <tr>\n",
       "      <th>3</th>\n",
       "      <td>2487200875</td>\n",
       "      <td>12/9/2014</td>\n",
       "      <td>604000.0</td>\n",
       "      <td>4</td>\n",
       "      <td>3.00</td>\n",
       "      <td>1960</td>\n",
       "      <td>5000</td>\n",
       "      <td>1.0</td>\n",
       "      <td>NO</td>\n",
       "      <td>NONE</td>\n",
       "      <td>...</td>\n",
       "      <td>7 Average</td>\n",
       "      <td>1050</td>\n",
       "      <td>910.0</td>\n",
       "      <td>1965</td>\n",
       "      <td>0.0</td>\n",
       "      <td>98136</td>\n",
       "      <td>47.5208</td>\n",
       "      <td>-122.393</td>\n",
       "      <td>1360</td>\n",
       "      <td>5000</td>\n",
       "    </tr>\n",
       "    <tr>\n",
       "      <th>4</th>\n",
       "      <td>1954400510</td>\n",
       "      <td>2/18/2015</td>\n",
       "      <td>510000.0</td>\n",
       "      <td>3</td>\n",
       "      <td>2.00</td>\n",
       "      <td>1680</td>\n",
       "      <td>8080</td>\n",
       "      <td>1.0</td>\n",
       "      <td>NO</td>\n",
       "      <td>NONE</td>\n",
       "      <td>...</td>\n",
       "      <td>8 Good</td>\n",
       "      <td>1680</td>\n",
       "      <td>0.0</td>\n",
       "      <td>1987</td>\n",
       "      <td>0.0</td>\n",
       "      <td>98074</td>\n",
       "      <td>47.6168</td>\n",
       "      <td>-122.045</td>\n",
       "      <td>1800</td>\n",
       "      <td>7503</td>\n",
       "    </tr>\n",
       "  </tbody>\n",
       "</table>\n",
       "<p>5 rows × 21 columns</p>\n",
       "</div>"
      ],
      "text/plain": [
       "           id        date     price  bedrooms  bathrooms  sqft_living  \\\n",
       "0  7129300520  10/13/2014  221900.0         3       1.00         1180   \n",
       "1  6414100192   12/9/2014  538000.0         3       2.25         2570   \n",
       "2  5631500400   2/25/2015  180000.0         2       1.00          770   \n",
       "3  2487200875   12/9/2014  604000.0         4       3.00         1960   \n",
       "4  1954400510   2/18/2015  510000.0         3       2.00         1680   \n",
       "\n",
       "   sqft_lot  floors waterfront  view  ...          grade sqft_above  \\\n",
       "0      5650     1.0        NaN  NONE  ...      7 Average       1180   \n",
       "1      7242     2.0         NO  NONE  ...      7 Average       2170   \n",
       "2     10000     1.0         NO  NONE  ...  6 Low Average        770   \n",
       "3      5000     1.0         NO  NONE  ...      7 Average       1050   \n",
       "4      8080     1.0         NO  NONE  ...         8 Good       1680   \n",
       "\n",
       "   sqft_basement yr_built  yr_renovated  zipcode      lat     long  \\\n",
       "0            0.0     1955           0.0    98178  47.5112 -122.257   \n",
       "1          400.0     1951        1991.0    98125  47.7210 -122.319   \n",
       "2            0.0     1933           NaN    98028  47.7379 -122.233   \n",
       "3          910.0     1965           0.0    98136  47.5208 -122.393   \n",
       "4            0.0     1987           0.0    98074  47.6168 -122.045   \n",
       "\n",
       "   sqft_living15  sqft_lot15  \n",
       "0           1340        5650  \n",
       "1           1690        7639  \n",
       "2           2720        8062  \n",
       "3           1360        5000  \n",
       "4           1800        7503  \n",
       "\n",
       "[5 rows x 21 columns]"
      ]
     },
     "execution_count": 5,
     "metadata": {},
     "output_type": "execute_result"
    }
   ],
   "source": [
    "#reading data\n",
    "df = pd.read_csv('kc_house_data.csv')\n",
    "df.head()"
   ]
  },
  {
   "cell_type": "code",
   "execution_count": null,
   "metadata": {
    "colab": {
     "base_uri": "https://localhost:8080/"
    },
    "id": "5brereDPzz17",
    "outputId": "83c4f7f5-5dcd-4c6b-ae79-28a67c8612e5"
   },
   "outputs": [],
   "source": [
    "df.columns"
   ]
  },
  {
   "cell_type": "code",
   "execution_count": 7,
   "metadata": {
    "colab": {
     "base_uri": "https://localhost:8080/"
    },
    "id": "cdYNVnFWzzyw",
    "outputId": "44615f00-303f-4487-94a7-c0c1d98be7b6"
   },
   "outputs": [
    {
     "name": "stdout",
     "output_type": "stream",
     "text": [
      "<class 'pandas.core.frame.DataFrame'>\n",
      "RangeIndex: 21597 entries, 0 to 21596\n",
      "Data columns (total 21 columns):\n",
      " #   Column         Non-Null Count  Dtype  \n",
      "---  ------         --------------  -----  \n",
      " 0   id             21597 non-null  int64  \n",
      " 1   date           21597 non-null  object \n",
      " 2   price          21597 non-null  float64\n",
      " 3   bedrooms       21597 non-null  int64  \n",
      " 4   bathrooms      21597 non-null  float64\n",
      " 5   sqft_living    21597 non-null  int64  \n",
      " 6   sqft_lot       21597 non-null  int64  \n",
      " 7   floors         21597 non-null  float64\n",
      " 8   waterfront     19221 non-null  object \n",
      " 9   view           21534 non-null  object \n",
      " 10  condition      21597 non-null  object \n",
      " 11  grade          21597 non-null  object \n",
      " 12  sqft_above     21597 non-null  int64  \n",
      " 13  sqft_basement  21597 non-null  object \n",
      " 14  yr_built       21597 non-null  int64  \n",
      " 15  yr_renovated   17755 non-null  float64\n",
      " 16  zipcode        21597 non-null  int64  \n",
      " 17  lat            21597 non-null  float64\n",
      " 18  long           21597 non-null  float64\n",
      " 19  sqft_living15  21597 non-null  int64  \n",
      " 20  sqft_lot15     21597 non-null  int64  \n",
      "dtypes: float64(6), int64(9), object(6)\n",
      "memory usage: 3.5+ MB\n"
     ]
    }
   ],
   "source": [
    "#Viewing summary of data\n",
    "df.info()"
   ]
  },
  {
   "cell_type": "markdown",
   "metadata": {
    "id": "ddCAmEeB0WvN"
   },
   "source": [
    "The data has six non-numeric columns that will need to be manipulated or removed before regression analysis: \"date\", \"waterfront\", \"view\", \"condition\", \"grade\", and \"sqft_basement\""
   ]
  },
  {
   "cell_type": "markdown",
   "metadata": {
    "id": "n4usrNmW0kQq"
   },
   "source": [
    "We are dropping certain columns that we won't be using in our model."
   ]
  },
  {
   "cell_type": "code",
   "execution_count": 8,
   "metadata": {
    "id": "rKTeXt040S4g"
   },
   "outputs": [],
   "source": [
    "#columns dropped\n",
    "cols = ['date', 'id', 'lat', 'long', 'sqft_living15', 'sqft_lot15', 'view', 'zipcode', 'yr_built']\n",
    "df = df.drop(cols, axis=1)"
   ]
  },
  {
   "cell_type": "code",
   "execution_count": 9,
   "metadata": {
    "colab": {
     "base_uri": "https://localhost:8080/"
    },
    "id": "m26bVMtF0S1F",
    "outputId": "c46984a5-54b5-4e4e-8f65-b03e31189d68"
   },
   "outputs": [
    {
     "name": "stdout",
     "output_type": "stream",
     "text": [
      "350000.0    172\n",
      "450000.0    172\n",
      "550000.0    159\n",
      "500000.0    152\n",
      "425000.0    150\n",
      "           ... \n",
      "870515.0      1\n",
      "336950.0      1\n",
      "386100.0      1\n",
      "176250.0      1\n",
      "884744.0      1\n",
      "Name: price, Length: 3622, dtype: int64\n",
      "3     9824\n",
      "4     6882\n",
      "2     2760\n",
      "5     1601\n",
      "6      272\n",
      "1      196\n",
      "7       38\n",
      "8       13\n",
      "9        6\n",
      "10       3\n",
      "11       1\n",
      "33       1\n",
      "Name: bedrooms, dtype: int64\n",
      "2.50    5377\n",
      "1.00    3851\n",
      "1.75    3048\n",
      "2.25    2047\n",
      "2.00    1930\n",
      "1.50    1445\n",
      "2.75    1185\n",
      "3.00     753\n",
      "3.50     731\n",
      "3.25     589\n",
      "3.75     155\n",
      "4.00     136\n",
      "4.50     100\n",
      "4.25      79\n",
      "0.75      71\n",
      "4.75      23\n",
      "5.00      21\n",
      "5.25      13\n",
      "5.50      10\n",
      "1.25       9\n",
      "6.00       6\n",
      "5.75       4\n",
      "0.50       4\n",
      "8.00       2\n",
      "6.25       2\n",
      "6.75       2\n",
      "6.50       2\n",
      "7.50       1\n",
      "7.75       1\n",
      "Name: bathrooms, dtype: int64\n",
      "1300    138\n",
      "1400    135\n",
      "1440    133\n",
      "1660    129\n",
      "1010    129\n",
      "       ... \n",
      "4970      1\n",
      "2905      1\n",
      "2793      1\n",
      "4810      1\n",
      "1975      1\n",
      "Name: sqft_living, Length: 1034, dtype: int64\n",
      "5000      358\n",
      "6000      290\n",
      "4000      251\n",
      "7200      220\n",
      "7500      119\n",
      "         ... \n",
      "1448        1\n",
      "38884       1\n",
      "17313       1\n",
      "35752       1\n",
      "315374      1\n",
      "Name: sqft_lot, Length: 9776, dtype: int64\n",
      "1.0    10673\n",
      "2.0     8235\n",
      "1.5     1910\n",
      "3.0      611\n",
      "2.5      161\n",
      "3.5        7\n",
      "Name: floors, dtype: int64\n",
      "NO     19075\n",
      "YES      146\n",
      "Name: waterfront, dtype: int64\n",
      "Average      14020\n",
      "Good          5677\n",
      "Very Good     1701\n",
      "Fair           170\n",
      "Poor            29\n",
      "Name: condition, dtype: int64\n",
      "7 Average        8974\n",
      "8 Good           6065\n",
      "9 Better         2615\n",
      "6 Low Average    2038\n",
      "10 Very Good     1134\n",
      "11 Excellent      399\n",
      "5 Fair            242\n",
      "12 Luxury          89\n",
      "4 Low              27\n",
      "13 Mansion         13\n",
      "3 Poor              1\n",
      "Name: grade, dtype: int64\n",
      "1300    212\n",
      "1010    210\n",
      "1200    206\n",
      "1220    192\n",
      "1140    184\n",
      "       ... \n",
      "2601      1\n",
      "440       1\n",
      "2473      1\n",
      "2441      1\n",
      "1975      1\n",
      "Name: sqft_above, Length: 942, dtype: int64\n",
      "0.0       12826\n",
      "?           454\n",
      "600.0       217\n",
      "500.0       209\n",
      "700.0       208\n",
      "          ...  \n",
      "274.0         1\n",
      "1990.0        1\n",
      "2600.0        1\n",
      "2250.0        1\n",
      "2300.0        1\n",
      "Name: sqft_basement, Length: 304, dtype: int64\n",
      "0.0       17011\n",
      "2014.0       73\n",
      "2003.0       31\n",
      "2013.0       31\n",
      "2007.0       30\n",
      "          ...  \n",
      "1946.0        1\n",
      "1959.0        1\n",
      "1971.0        1\n",
      "1951.0        1\n",
      "1954.0        1\n",
      "Name: yr_renovated, Length: 70, dtype: int64\n"
     ]
    }
   ],
   "source": [
    "for col in df.columns:\n",
    "    print(df[col].value_counts())"
   ]
  },
  {
   "cell_type": "markdown",
   "metadata": {
    "id": "kFrcmx1VzkQe"
   },
   "source": [
    "## Data Preparation"
   ]
  },
  {
   "cell_type": "markdown",
   "metadata": {
    "id": "6w_J4SHm1p_D"
   },
   "source": [
    "### Dealing with missing values\n",
    "\n",
    "Waterfront and years renovated have missing values"
   ]
  },
  {
   "cell_type": "code",
   "execution_count": 10,
   "metadata": {
    "colab": {
     "base_uri": "https://localhost:8080/"
    },
    "id": "zQ4Oi3ZA1YXj",
    "outputId": "6fc25f18-8db5-4614-84a6-19d1438df65d"
   },
   "outputs": [
    {
     "name": "stdout",
     "output_type": "stream",
     "text": [
      "<class 'pandas.core.frame.DataFrame'>\n",
      "RangeIndex: 21597 entries, 0 to 21596\n",
      "Data columns (total 12 columns):\n",
      " #   Column         Non-Null Count  Dtype  \n",
      "---  ------         --------------  -----  \n",
      " 0   price          21597 non-null  float64\n",
      " 1   bedrooms       21597 non-null  int64  \n",
      " 2   bathrooms      21597 non-null  float64\n",
      " 3   sqft_living    21597 non-null  int64  \n",
      " 4   sqft_lot       21597 non-null  int64  \n",
      " 5   floors         21597 non-null  float64\n",
      " 6   waterfront     19221 non-null  object \n",
      " 7   condition      21597 non-null  object \n",
      " 8   grade          21597 non-null  object \n",
      " 9   sqft_above     21597 non-null  int64  \n",
      " 10  sqft_basement  21597 non-null  object \n",
      " 11  yr_renovated   17755 non-null  float64\n",
      "dtypes: float64(4), int64(4), object(4)\n",
      "memory usage: 2.0+ MB\n"
     ]
    }
   ],
   "source": [
    "#viewing new data summary\n",
    "df.info()\n"
   ]
  },
  {
   "cell_type": "code",
   "execution_count": 11,
   "metadata": {
    "colab": {
     "base_uri": "https://localhost:8080/"
    },
    "id": "O7yGE_Se1YUF",
    "outputId": "72f643d9-b3d9-4aa7-96fa-3b531a7bb132"
   },
   "outputs": [
    {
     "data": {
      "text/plain": [
       "price               0\n",
       "bedrooms            0\n",
       "bathrooms           0\n",
       "sqft_living         0\n",
       "sqft_lot            0\n",
       "floors              0\n",
       "waterfront       2376\n",
       "condition           0\n",
       "grade               0\n",
       "sqft_above          0\n",
       "sqft_basement       0\n",
       "yr_renovated     3842\n",
       "dtype: int64"
      ]
     },
     "execution_count": 11,
     "metadata": {},
     "output_type": "execute_result"
    }
   ],
   "source": [
    "#columns with missing values are waterfront, yr_renovated\n",
    "df.isna().sum()"
   ]
  },
  {
   "cell_type": "code",
   "execution_count": 12,
   "metadata": {
    "colab": {
     "base_uri": "https://localhost:8080/"
    },
    "id": "Dq3hFceO1YRQ",
    "outputId": "f54849a3-2582-4db7-bdc9-883256d6880a"
   },
   "outputs": [
    {
     "data": {
      "text/plain": [
       "NO     19075\n",
       "YES      146\n",
       "Name: waterfront, dtype: int64"
      ]
     },
     "execution_count": 12,
     "metadata": {},
     "output_type": "execute_result"
    }
   ],
   "source": [
    "#checking unique values in waterfront\n",
    "df['waterfront'].value_counts()"
   ]
  },
  {
   "cell_type": "code",
   "execution_count": 15,
   "metadata": {
    "id": "SfEDlBYp3FZU"
   },
   "outputs": [],
   "source": [
    "#filling the null values with 0 assuming that the houses did not have a waterfront\n",
    "df['waterfront'].fillna(0, inplace=True)"
   ]
  },
  {
   "cell_type": "code",
   "execution_count": 16,
   "metadata": {
    "colab": {
     "base_uri": "https://localhost:8080/"
    },
    "id": "syohY4hN1YOq",
    "outputId": "4fdd1ee3-ad05-4824-8d0f-dd357199401d"
   },
   "outputs": [
    {
     "data": {
      "text/plain": [
       "0.0       17011\n",
       "2014.0       73\n",
       "2003.0       31\n",
       "2013.0       31\n",
       "2007.0       30\n",
       "          ...  \n",
       "1946.0        1\n",
       "1959.0        1\n",
       "1971.0        1\n",
       "1951.0        1\n",
       "1954.0        1\n",
       "Name: yr_renovated, Length: 70, dtype: int64"
      ]
     },
     "execution_count": 16,
     "metadata": {},
     "output_type": "execute_result"
    }
   ],
   "source": [
    "#checking unique values in yr_renovated\n",
    "df['yr_renovated'].value_counts()"
   ]
  },
  {
   "cell_type": "code",
   "execution_count": 17,
   "metadata": {
    "id": "ii1kzXmG1YMQ"
   },
   "outputs": [],
   "source": [
    "#filling null values with 0\n",
    "df['yr_renovated'].fillna(0, inplace=True)"
   ]
  },
  {
   "cell_type": "code",
   "execution_count": 18,
   "metadata": {
    "colab": {
     "base_uri": "https://localhost:8080/"
    },
    "id": "n2r0uXwi1YKD",
    "outputId": "ebc42490-2cae-4a17-a77e-a3af92f18c4c"
   },
   "outputs": [
    {
     "data": {
      "text/plain": [
       "price            0\n",
       "bedrooms         0\n",
       "bathrooms        0\n",
       "sqft_living      0\n",
       "sqft_lot         0\n",
       "floors           0\n",
       "waterfront       0\n",
       "condition        0\n",
       "grade            0\n",
       "sqft_above       0\n",
       "sqft_basement    0\n",
       "yr_renovated     0\n",
       "dtype: int64"
      ]
     },
     "execution_count": 18,
     "metadata": {},
     "output_type": "execute_result"
    }
   ],
   "source": [
    "df.isnull().sum()"
   ]
  },
  {
   "cell_type": "markdown",
   "metadata": {
    "id": "PMO9ubc-4BJI"
   },
   "source": [
    "### Converting datatypes"
   ]
  },
  {
   "cell_type": "code",
   "execution_count": 19,
   "metadata": {
    "id": "i8mg_2sb4Art"
   },
   "outputs": [],
   "source": [
    "#convert data for analysis\n",
    "df['waterfront'] = [1 if x=='YES' else 0 for x in df['waterfront']]\n",
    "df['yr_renovated'] = [0 if x == 0.0 else 1 for x in df['yr_renovated']]"
   ]
  },
  {
   "cell_type": "code",
   "execution_count": 20,
   "metadata": {
    "colab": {
     "base_uri": "https://localhost:8080/"
    },
    "id": "16p8FFqp5fS6",
    "outputId": "06786eae-67e1-4f1f-90bf-1b95254b3933"
   },
   "outputs": [
    {
     "data": {
      "text/plain": [
       "0    21451\n",
       "1      146\n",
       "Name: waterfront, dtype: int64"
      ]
     },
     "execution_count": 20,
     "metadata": {},
     "output_type": "execute_result"
    }
   ],
   "source": [
    "df['waterfront'].value_counts()"
   ]
  },
  {
   "cell_type": "code",
   "execution_count": 21,
   "metadata": {
    "colab": {
     "base_uri": "https://localhost:8080/"
    },
    "id": "CxE6qtA35eTZ",
    "outputId": "173ae7d5-9366-4f5b-8fef-fb589555a639"
   },
   "outputs": [
    {
     "data": {
      "text/plain": [
       "0    20853\n",
       "1      744\n",
       "Name: yr_renovated, dtype: int64"
      ]
     },
     "execution_count": 21,
     "metadata": {},
     "output_type": "execute_result"
    }
   ],
   "source": [
    "df['yr_renovated'].value_counts()"
   ]
  },
  {
   "cell_type": "code",
   "execution_count": 22,
   "metadata": {
    "colab": {
     "base_uri": "https://localhost:8080/"
    },
    "id": "YOJZ4U3u1YHw",
    "outputId": "4bef0b55-7fb5-4302-e38d-781be81fa46c"
   },
   "outputs": [
    {
     "data": {
      "text/plain": [
       "Average      14020\n",
       "Good          5677\n",
       "Very Good     1701\n",
       "Fair           170\n",
       "Poor            29\n",
       "Name: condition, dtype: int64"
      ]
     },
     "execution_count": 22,
     "metadata": {},
     "output_type": "execute_result"
    }
   ],
   "source": [
    "#Dealing with the categorical column condition\n",
    "df['condition'].value_counts()"
   ]
  },
  {
   "cell_type": "code",
   "execution_count": 23,
   "metadata": {
    "colab": {
     "base_uri": "https://localhost:8080/",
     "height": 167
    },
    "id": "7K423qSL1YFj",
    "outputId": "eddb7306-c3b6-4226-abc4-9895b694b622"
   },
   "outputs": [
    {
     "data": {
      "text/html": [
       "<div>\n",
       "<style scoped>\n",
       "    .dataframe tbody tr th:only-of-type {\n",
       "        vertical-align: middle;\n",
       "    }\n",
       "\n",
       "    .dataframe tbody tr th {\n",
       "        vertical-align: top;\n",
       "    }\n",
       "\n",
       "    .dataframe thead th {\n",
       "        text-align: right;\n",
       "    }\n",
       "</style>\n",
       "<table border=\"1\" class=\"dataframe\">\n",
       "  <thead>\n",
       "    <tr style=\"text-align: right;\">\n",
       "      <th></th>\n",
       "      <th>price</th>\n",
       "      <th>bedrooms</th>\n",
       "      <th>bathrooms</th>\n",
       "      <th>sqft_living</th>\n",
       "      <th>sqft_lot</th>\n",
       "      <th>floors</th>\n",
       "      <th>waterfront</th>\n",
       "      <th>condition</th>\n",
       "      <th>grade</th>\n",
       "      <th>sqft_above</th>\n",
       "      <th>sqft_basement</th>\n",
       "      <th>yr_renovated</th>\n",
       "      <th>condition_num</th>\n",
       "    </tr>\n",
       "  </thead>\n",
       "  <tbody>\n",
       "    <tr>\n",
       "      <th>0</th>\n",
       "      <td>221900.0</td>\n",
       "      <td>3</td>\n",
       "      <td>1.00</td>\n",
       "      <td>1180</td>\n",
       "      <td>5650</td>\n",
       "      <td>1.0</td>\n",
       "      <td>0</td>\n",
       "      <td>Average</td>\n",
       "      <td>7 Average</td>\n",
       "      <td>1180</td>\n",
       "      <td>0.0</td>\n",
       "      <td>0</td>\n",
       "      <td>3</td>\n",
       "    </tr>\n",
       "    <tr>\n",
       "      <th>1</th>\n",
       "      <td>538000.0</td>\n",
       "      <td>3</td>\n",
       "      <td>2.25</td>\n",
       "      <td>2570</td>\n",
       "      <td>7242</td>\n",
       "      <td>2.0</td>\n",
       "      <td>0</td>\n",
       "      <td>Average</td>\n",
       "      <td>7 Average</td>\n",
       "      <td>2170</td>\n",
       "      <td>400.0</td>\n",
       "      <td>1</td>\n",
       "      <td>3</td>\n",
       "    </tr>\n",
       "  </tbody>\n",
       "</table>\n",
       "</div>"
      ],
      "text/plain": [
       "      price  bedrooms  bathrooms  sqft_living  sqft_lot  floors  waterfront  \\\n",
       "0  221900.0         3       1.00         1180      5650     1.0           0   \n",
       "1  538000.0         3       2.25         2570      7242     2.0           0   \n",
       "\n",
       "  condition      grade  sqft_above sqft_basement  yr_renovated  condition_num  \n",
       "0   Average  7 Average        1180           0.0             0              3  \n",
       "1   Average  7 Average        2170         400.0             1              3  "
      ]
     },
     "execution_count": 23,
     "metadata": {},
     "output_type": "execute_result"
    }
   ],
   "source": [
    "#Making a dict to map to the string in the categorical column condition\n",
    "cond = {'Very Good':5, \"Good\": 4,'Average': 3, \"Fair\": 2, \"Poor\": 1}\n",
    "#Creating a new column which the mapping will be done\n",
    "df['condition_num'] = df['condition'].map(cond)\n",
    "df.head(2)"
   ]
  },
  {
   "cell_type": "code",
   "execution_count": 24,
   "metadata": {
    "colab": {
     "base_uri": "https://localhost:8080/"
    },
    "id": "P8cAYgUe1YCf",
    "outputId": "0ab2276c-c58e-4bfd-cef3-d665e1667507"
   },
   "outputs": [
    {
     "data": {
      "text/plain": [
       "7 Average        8974\n",
       "8 Good           6065\n",
       "9 Better         2615\n",
       "6 Low Average    2038\n",
       "10 Very Good     1134\n",
       "11 Excellent      399\n",
       "5 Fair            242\n",
       "12 Luxury          89\n",
       "4 Low              27\n",
       "13 Mansion         13\n",
       "3 Poor              1\n",
       "Name: grade, dtype: int64"
      ]
     },
     "execution_count": 24,
     "metadata": {},
     "output_type": "execute_result"
    }
   ],
   "source": [
    "df['grade'].value_counts()"
   ]
  },
  {
   "cell_type": "code",
   "execution_count": 25,
   "metadata": {
    "colab": {
     "base_uri": "https://localhost:8080/",
     "height": 167
    },
    "id": "M5afQx8a1X_E",
    "outputId": "08beb174-f314-49a1-e35b-a6ed4007bd42"
   },
   "outputs": [
    {
     "data": {
      "text/html": [
       "<div>\n",
       "<style scoped>\n",
       "    .dataframe tbody tr th:only-of-type {\n",
       "        vertical-align: middle;\n",
       "    }\n",
       "\n",
       "    .dataframe tbody tr th {\n",
       "        vertical-align: top;\n",
       "    }\n",
       "\n",
       "    .dataframe thead th {\n",
       "        text-align: right;\n",
       "    }\n",
       "</style>\n",
       "<table border=\"1\" class=\"dataframe\">\n",
       "  <thead>\n",
       "    <tr style=\"text-align: right;\">\n",
       "      <th></th>\n",
       "      <th>price</th>\n",
       "      <th>bedrooms</th>\n",
       "      <th>bathrooms</th>\n",
       "      <th>sqft_living</th>\n",
       "      <th>sqft_lot</th>\n",
       "      <th>floors</th>\n",
       "      <th>waterfront</th>\n",
       "      <th>condition</th>\n",
       "      <th>grade</th>\n",
       "      <th>sqft_above</th>\n",
       "      <th>sqft_basement</th>\n",
       "      <th>yr_renovated</th>\n",
       "      <th>condition_num</th>\n",
       "      <th>grade_num</th>\n",
       "      <th>grade_name</th>\n",
       "    </tr>\n",
       "  </thead>\n",
       "  <tbody>\n",
       "    <tr>\n",
       "      <th>0</th>\n",
       "      <td>221900.0</td>\n",
       "      <td>3</td>\n",
       "      <td>1.00</td>\n",
       "      <td>1180</td>\n",
       "      <td>5650</td>\n",
       "      <td>1.0</td>\n",
       "      <td>0</td>\n",
       "      <td>Average</td>\n",
       "      <td>7 Average</td>\n",
       "      <td>1180</td>\n",
       "      <td>0.0</td>\n",
       "      <td>0</td>\n",
       "      <td>3</td>\n",
       "      <td>7</td>\n",
       "      <td>Average</td>\n",
       "    </tr>\n",
       "    <tr>\n",
       "      <th>1</th>\n",
       "      <td>538000.0</td>\n",
       "      <td>3</td>\n",
       "      <td>2.25</td>\n",
       "      <td>2570</td>\n",
       "      <td>7242</td>\n",
       "      <td>2.0</td>\n",
       "      <td>0</td>\n",
       "      <td>Average</td>\n",
       "      <td>7 Average</td>\n",
       "      <td>2170</td>\n",
       "      <td>400.0</td>\n",
       "      <td>1</td>\n",
       "      <td>3</td>\n",
       "      <td>7</td>\n",
       "      <td>Average</td>\n",
       "    </tr>\n",
       "  </tbody>\n",
       "</table>\n",
       "</div>"
      ],
      "text/plain": [
       "      price  bedrooms  bathrooms  sqft_living  sqft_lot  floors  waterfront  \\\n",
       "0  221900.0         3       1.00         1180      5650     1.0           0   \n",
       "1  538000.0         3       2.25         2570      7242     2.0           0   \n",
       "\n",
       "  condition      grade  sqft_above sqft_basement  yr_renovated  condition_num  \\\n",
       "0   Average  7 Average        1180           0.0             0              3   \n",
       "1   Average  7 Average        2170         400.0             1              3   \n",
       "\n",
       "   grade_num grade_name  \n",
       "0          7    Average  \n",
       "1          7    Average  "
      ]
     },
     "execution_count": 25,
     "metadata": {},
     "output_type": "execute_result"
    }
   ],
   "source": [
    "def split_grade(grade):\n",
    "  grade_num = grade.split(' ')[0]\n",
    "  grade_name = grade.split(' ')[1]\n",
    "\n",
    "  return int(grade_num), grade_name\n",
    "\n",
    "\n",
    "df['grade_num'], df['grade_name'] = zip(*df['grade'].apply(split_grade))\n",
    "\n",
    "df.head(2)\n"
   ]
  },
  {
   "cell_type": "code",
   "execution_count": 26,
   "metadata": {
    "colab": {
     "base_uri": "https://localhost:8080/",
     "height": 132
    },
    "id": "WfCqF1dZ1X74",
    "outputId": "7caa96f8-5bcf-467a-9d26-7d55c26e5e64"
   },
   "outputs": [
    {
     "data": {
      "text/html": [
       "<div>\n",
       "<style scoped>\n",
       "    .dataframe tbody tr th:only-of-type {\n",
       "        vertical-align: middle;\n",
       "    }\n",
       "\n",
       "    .dataframe tbody tr th {\n",
       "        vertical-align: top;\n",
       "    }\n",
       "\n",
       "    .dataframe thead th {\n",
       "        text-align: right;\n",
       "    }\n",
       "</style>\n",
       "<table border=\"1\" class=\"dataframe\">\n",
       "  <thead>\n",
       "    <tr style=\"text-align: right;\">\n",
       "      <th></th>\n",
       "      <th>price</th>\n",
       "      <th>bedrooms</th>\n",
       "      <th>bathrooms</th>\n",
       "      <th>sqft_living</th>\n",
       "      <th>sqft_lot</th>\n",
       "      <th>floors</th>\n",
       "      <th>waterfront</th>\n",
       "      <th>sqft_above</th>\n",
       "      <th>sqft_basement</th>\n",
       "      <th>yr_renovated</th>\n",
       "      <th>condition_num</th>\n",
       "      <th>grade_num</th>\n",
       "      <th>grade_name</th>\n",
       "    </tr>\n",
       "  </thead>\n",
       "  <tbody>\n",
       "    <tr>\n",
       "      <th>0</th>\n",
       "      <td>221900.0</td>\n",
       "      <td>3</td>\n",
       "      <td>1.00</td>\n",
       "      <td>1180</td>\n",
       "      <td>5650</td>\n",
       "      <td>1.0</td>\n",
       "      <td>0</td>\n",
       "      <td>1180</td>\n",
       "      <td>0.0</td>\n",
       "      <td>0</td>\n",
       "      <td>3</td>\n",
       "      <td>7</td>\n",
       "      <td>Average</td>\n",
       "    </tr>\n",
       "    <tr>\n",
       "      <th>1</th>\n",
       "      <td>538000.0</td>\n",
       "      <td>3</td>\n",
       "      <td>2.25</td>\n",
       "      <td>2570</td>\n",
       "      <td>7242</td>\n",
       "      <td>2.0</td>\n",
       "      <td>0</td>\n",
       "      <td>2170</td>\n",
       "      <td>400.0</td>\n",
       "      <td>1</td>\n",
       "      <td>3</td>\n",
       "      <td>7</td>\n",
       "      <td>Average</td>\n",
       "    </tr>\n",
       "  </tbody>\n",
       "</table>\n",
       "</div>"
      ],
      "text/plain": [
       "      price  bedrooms  bathrooms  sqft_living  sqft_lot  floors  waterfront  \\\n",
       "0  221900.0         3       1.00         1180      5650     1.0           0   \n",
       "1  538000.0         3       2.25         2570      7242     2.0           0   \n",
       "\n",
       "   sqft_above sqft_basement  yr_renovated  condition_num  grade_num grade_name  \n",
       "0        1180           0.0             0              3          7    Average  \n",
       "1        2170         400.0             1              3          7    Average  "
      ]
     },
     "execution_count": 26,
     "metadata": {},
     "output_type": "execute_result"
    }
   ],
   "source": [
    "#dropping condion and grade columns\n",
    "df = df.drop(columns=['condition', 'grade'])\n",
    "df.head(2)"
   ]
  },
  {
   "cell_type": "markdown",
   "metadata": {
    "id": "W80mJUhA6ubb"
   },
   "source": [
    "### Outliers"
   ]
  },
  {
   "cell_type": "markdown",
   "metadata": {
    "id": "rUpYRpec6y_P"
   },
   "source": [
    "When we ran the value_counts to check the unique values in all the columns, it was noted that there was a house with 33 bedrooms. We want to check if it makes sense."
   ]
  },
  {
   "cell_type": "code",
   "execution_count": 28,
   "metadata": {
    "colab": {
     "base_uri": "https://localhost:8080/",
     "height": 444
    },
    "id": "UsXhQ5OA6lwl",
    "outputId": "ccbb5d6a-f02c-4702-b192-61dded59f065"
   },
   "outputs": [
    {
     "data": {
      "text/html": [
       "<div>\n",
       "<style scoped>\n",
       "    .dataframe tbody tr th:only-of-type {\n",
       "        vertical-align: middle;\n",
       "    }\n",
       "\n",
       "    .dataframe tbody tr th {\n",
       "        vertical-align: top;\n",
       "    }\n",
       "\n",
       "    .dataframe thead th {\n",
       "        text-align: right;\n",
       "    }\n",
       "</style>\n",
       "<table border=\"1\" class=\"dataframe\">\n",
       "  <thead>\n",
       "    <tr style=\"text-align: right;\">\n",
       "      <th></th>\n",
       "      <th>price</th>\n",
       "      <th>bedrooms</th>\n",
       "      <th>bathrooms</th>\n",
       "      <th>sqft_living</th>\n",
       "      <th>sqft_lot</th>\n",
       "      <th>floors</th>\n",
       "      <th>waterfront</th>\n",
       "      <th>sqft_above</th>\n",
       "      <th>sqft_basement</th>\n",
       "      <th>yr_renovated</th>\n",
       "      <th>condition_num</th>\n",
       "      <th>grade_num</th>\n",
       "      <th>grade_name</th>\n",
       "    </tr>\n",
       "  </thead>\n",
       "  <tbody>\n",
       "    <tr>\n",
       "      <th>9877</th>\n",
       "      <td>713000.0</td>\n",
       "      <td>1</td>\n",
       "      <td>1.00</td>\n",
       "      <td>1180</td>\n",
       "      <td>4000</td>\n",
       "      <td>1.5</td>\n",
       "      <td>0</td>\n",
       "      <td>840</td>\n",
       "      <td>340.0</td>\n",
       "      <td>0</td>\n",
       "      <td>4</td>\n",
       "      <td>8</td>\n",
       "      <td>Good</td>\n",
       "    </tr>\n",
       "    <tr>\n",
       "      <th>9536</th>\n",
       "      <td>190000.0</td>\n",
       "      <td>1</td>\n",
       "      <td>1.00</td>\n",
       "      <td>720</td>\n",
       "      <td>4800</td>\n",
       "      <td>1.0</td>\n",
       "      <td>0</td>\n",
       "      <td>720</td>\n",
       "      <td>0.0</td>\n",
       "      <td>0</td>\n",
       "      <td>3</td>\n",
       "      <td>6</td>\n",
       "      <td>Low</td>\n",
       "    </tr>\n",
       "    <tr>\n",
       "      <th>14332</th>\n",
       "      <td>321500.0</td>\n",
       "      <td>1</td>\n",
       "      <td>1.00</td>\n",
       "      <td>730</td>\n",
       "      <td>1942</td>\n",
       "      <td>1.0</td>\n",
       "      <td>0</td>\n",
       "      <td>730</td>\n",
       "      <td>0.0</td>\n",
       "      <td>0</td>\n",
       "      <td>3</td>\n",
       "      <td>7</td>\n",
       "      <td>Average</td>\n",
       "    </tr>\n",
       "    <tr>\n",
       "      <th>14340</th>\n",
       "      <td>325000.0</td>\n",
       "      <td>1</td>\n",
       "      <td>1.00</td>\n",
       "      <td>1220</td>\n",
       "      <td>12426</td>\n",
       "      <td>1.0</td>\n",
       "      <td>0</td>\n",
       "      <td>1220</td>\n",
       "      <td>0.0</td>\n",
       "      <td>0</td>\n",
       "      <td>4</td>\n",
       "      <td>6</td>\n",
       "      <td>Low</td>\n",
       "    </tr>\n",
       "    <tr>\n",
       "      <th>12823</th>\n",
       "      <td>305000.0</td>\n",
       "      <td>1</td>\n",
       "      <td>1.00</td>\n",
       "      <td>900</td>\n",
       "      <td>7500</td>\n",
       "      <td>1.0</td>\n",
       "      <td>0</td>\n",
       "      <td>900</td>\n",
       "      <td>0.0</td>\n",
       "      <td>0</td>\n",
       "      <td>3</td>\n",
       "      <td>5</td>\n",
       "      <td>Fair</td>\n",
       "    </tr>\n",
       "    <tr>\n",
       "      <th>...</th>\n",
       "      <td>...</td>\n",
       "      <td>...</td>\n",
       "      <td>...</td>\n",
       "      <td>...</td>\n",
       "      <td>...</td>\n",
       "      <td>...</td>\n",
       "      <td>...</td>\n",
       "      <td>...</td>\n",
       "      <td>...</td>\n",
       "      <td>...</td>\n",
       "      <td>...</td>\n",
       "      <td>...</td>\n",
       "      <td>...</td>\n",
       "    </tr>\n",
       "    <tr>\n",
       "      <th>15147</th>\n",
       "      <td>650000.0</td>\n",
       "      <td>10</td>\n",
       "      <td>2.00</td>\n",
       "      <td>3610</td>\n",
       "      <td>11914</td>\n",
       "      <td>2.0</td>\n",
       "      <td>0</td>\n",
       "      <td>3010</td>\n",
       "      <td>600.0</td>\n",
       "      <td>0</td>\n",
       "      <td>4</td>\n",
       "      <td>7</td>\n",
       "      <td>Average</td>\n",
       "    </tr>\n",
       "    <tr>\n",
       "      <th>13301</th>\n",
       "      <td>1150000.0</td>\n",
       "      <td>10</td>\n",
       "      <td>5.25</td>\n",
       "      <td>4590</td>\n",
       "      <td>10920</td>\n",
       "      <td>1.0</td>\n",
       "      <td>0</td>\n",
       "      <td>2500</td>\n",
       "      <td>2090.0</td>\n",
       "      <td>0</td>\n",
       "      <td>3</td>\n",
       "      <td>9</td>\n",
       "      <td>Better</td>\n",
       "    </tr>\n",
       "    <tr>\n",
       "      <th>19239</th>\n",
       "      <td>660000.0</td>\n",
       "      <td>10</td>\n",
       "      <td>3.00</td>\n",
       "      <td>2920</td>\n",
       "      <td>3745</td>\n",
       "      <td>2.0</td>\n",
       "      <td>0</td>\n",
       "      <td>1860</td>\n",
       "      <td>1060.0</td>\n",
       "      <td>0</td>\n",
       "      <td>4</td>\n",
       "      <td>7</td>\n",
       "      <td>Average</td>\n",
       "    </tr>\n",
       "    <tr>\n",
       "      <th>8748</th>\n",
       "      <td>520000.0</td>\n",
       "      <td>11</td>\n",
       "      <td>3.00</td>\n",
       "      <td>3000</td>\n",
       "      <td>4960</td>\n",
       "      <td>2.0</td>\n",
       "      <td>0</td>\n",
       "      <td>2400</td>\n",
       "      <td>600.0</td>\n",
       "      <td>1</td>\n",
       "      <td>3</td>\n",
       "      <td>7</td>\n",
       "      <td>Average</td>\n",
       "    </tr>\n",
       "    <tr>\n",
       "      <th>15856</th>\n",
       "      <td>640000.0</td>\n",
       "      <td>33</td>\n",
       "      <td>1.75</td>\n",
       "      <td>1620</td>\n",
       "      <td>6000</td>\n",
       "      <td>1.0</td>\n",
       "      <td>0</td>\n",
       "      <td>1040</td>\n",
       "      <td>580.0</td>\n",
       "      <td>0</td>\n",
       "      <td>5</td>\n",
       "      <td>7</td>\n",
       "      <td>Average</td>\n",
       "    </tr>\n",
       "  </tbody>\n",
       "</table>\n",
       "<p>21597 rows × 13 columns</p>\n",
       "</div>"
      ],
      "text/plain": [
       "           price  bedrooms  bathrooms  sqft_living  sqft_lot  floors  \\\n",
       "9877    713000.0         1       1.00         1180      4000     1.5   \n",
       "9536    190000.0         1       1.00          720      4800     1.0   \n",
       "14332   321500.0         1       1.00          730      1942     1.0   \n",
       "14340   325000.0         1       1.00         1220     12426     1.0   \n",
       "12823   305000.0         1       1.00          900      7500     1.0   \n",
       "...          ...       ...        ...          ...       ...     ...   \n",
       "15147   650000.0        10       2.00         3610     11914     2.0   \n",
       "13301  1150000.0        10       5.25         4590     10920     1.0   \n",
       "19239   660000.0        10       3.00         2920      3745     2.0   \n",
       "8748    520000.0        11       3.00         3000      4960     2.0   \n",
       "15856   640000.0        33       1.75         1620      6000     1.0   \n",
       "\n",
       "       waterfront  sqft_above sqft_basement  yr_renovated  condition_num  \\\n",
       "9877            0         840         340.0             0              4   \n",
       "9536            0         720           0.0             0              3   \n",
       "14332           0         730           0.0             0              3   \n",
       "14340           0        1220           0.0             0              4   \n",
       "12823           0         900           0.0             0              3   \n",
       "...           ...         ...           ...           ...            ...   \n",
       "15147           0        3010         600.0             0              4   \n",
       "13301           0        2500        2090.0             0              3   \n",
       "19239           0        1860        1060.0             0              4   \n",
       "8748            0        2400         600.0             1              3   \n",
       "15856           0        1040         580.0             0              5   \n",
       "\n",
       "       grade_num grade_name  \n",
       "9877           8       Good  \n",
       "9536           6        Low  \n",
       "14332          7    Average  \n",
       "14340          6        Low  \n",
       "12823          5       Fair  \n",
       "...          ...        ...  \n",
       "15147          7    Average  \n",
       "13301          9     Better  \n",
       "19239          7    Average  \n",
       "8748           7    Average  \n",
       "15856          7    Average  \n",
       "\n",
       "[21597 rows x 13 columns]"
      ]
     },
     "execution_count": 28,
     "metadata": {},
     "output_type": "execute_result"
    }
   ],
   "source": [
    "#sort data to identify outliers\n",
    "df.sort_values(by='bedrooms')"
   ]
  },
  {
   "cell_type": "markdown",
   "metadata": {
    "id": "xyzs6vhW7Or2"
   },
   "source": [
    "The house with 33 bedrooms is having square footage of living being 1620. It does not make sense to include the outlier."
   ]
  },
  {
   "cell_type": "code",
   "execution_count": 29,
   "metadata": {
    "colab": {
     "base_uri": "https://localhost:8080/",
     "height": 444
    },
    "id": "tvyQBM9F6ltT",
    "outputId": "fbd20d4f-f04d-4a50-a62b-d6191193bf92"
   },
   "outputs": [
    {
     "data": {
      "text/html": [
       "<div>\n",
       "<style scoped>\n",
       "    .dataframe tbody tr th:only-of-type {\n",
       "        vertical-align: middle;\n",
       "    }\n",
       "\n",
       "    .dataframe tbody tr th {\n",
       "        vertical-align: top;\n",
       "    }\n",
       "\n",
       "    .dataframe thead th {\n",
       "        text-align: right;\n",
       "    }\n",
       "</style>\n",
       "<table border=\"1\" class=\"dataframe\">\n",
       "  <thead>\n",
       "    <tr style=\"text-align: right;\">\n",
       "      <th></th>\n",
       "      <th>price</th>\n",
       "      <th>bedrooms</th>\n",
       "      <th>bathrooms</th>\n",
       "      <th>sqft_living</th>\n",
       "      <th>sqft_lot</th>\n",
       "      <th>floors</th>\n",
       "      <th>waterfront</th>\n",
       "      <th>sqft_above</th>\n",
       "      <th>sqft_basement</th>\n",
       "      <th>yr_renovated</th>\n",
       "      <th>condition_num</th>\n",
       "      <th>grade_num</th>\n",
       "      <th>grade_name</th>\n",
       "    </tr>\n",
       "  </thead>\n",
       "  <tbody>\n",
       "    <tr>\n",
       "      <th>9877</th>\n",
       "      <td>713000.0</td>\n",
       "      <td>1</td>\n",
       "      <td>1.00</td>\n",
       "      <td>1180</td>\n",
       "      <td>4000</td>\n",
       "      <td>1.5</td>\n",
       "      <td>0</td>\n",
       "      <td>840</td>\n",
       "      <td>340.0</td>\n",
       "      <td>0</td>\n",
       "      <td>4</td>\n",
       "      <td>8</td>\n",
       "      <td>Good</td>\n",
       "    </tr>\n",
       "    <tr>\n",
       "      <th>9536</th>\n",
       "      <td>190000.0</td>\n",
       "      <td>1</td>\n",
       "      <td>1.00</td>\n",
       "      <td>720</td>\n",
       "      <td>4800</td>\n",
       "      <td>1.0</td>\n",
       "      <td>0</td>\n",
       "      <td>720</td>\n",
       "      <td>0.0</td>\n",
       "      <td>0</td>\n",
       "      <td>3</td>\n",
       "      <td>6</td>\n",
       "      <td>Low</td>\n",
       "    </tr>\n",
       "    <tr>\n",
       "      <th>14332</th>\n",
       "      <td>321500.0</td>\n",
       "      <td>1</td>\n",
       "      <td>1.00</td>\n",
       "      <td>730</td>\n",
       "      <td>1942</td>\n",
       "      <td>1.0</td>\n",
       "      <td>0</td>\n",
       "      <td>730</td>\n",
       "      <td>0.0</td>\n",
       "      <td>0</td>\n",
       "      <td>3</td>\n",
       "      <td>7</td>\n",
       "      <td>Average</td>\n",
       "    </tr>\n",
       "    <tr>\n",
       "      <th>14340</th>\n",
       "      <td>325000.0</td>\n",
       "      <td>1</td>\n",
       "      <td>1.00</td>\n",
       "      <td>1220</td>\n",
       "      <td>12426</td>\n",
       "      <td>1.0</td>\n",
       "      <td>0</td>\n",
       "      <td>1220</td>\n",
       "      <td>0.0</td>\n",
       "      <td>0</td>\n",
       "      <td>4</td>\n",
       "      <td>6</td>\n",
       "      <td>Low</td>\n",
       "    </tr>\n",
       "    <tr>\n",
       "      <th>12823</th>\n",
       "      <td>305000.0</td>\n",
       "      <td>1</td>\n",
       "      <td>1.00</td>\n",
       "      <td>900</td>\n",
       "      <td>7500</td>\n",
       "      <td>1.0</td>\n",
       "      <td>0</td>\n",
       "      <td>900</td>\n",
       "      <td>0.0</td>\n",
       "      <td>0</td>\n",
       "      <td>3</td>\n",
       "      <td>5</td>\n",
       "      <td>Fair</td>\n",
       "    </tr>\n",
       "    <tr>\n",
       "      <th>...</th>\n",
       "      <td>...</td>\n",
       "      <td>...</td>\n",
       "      <td>...</td>\n",
       "      <td>...</td>\n",
       "      <td>...</td>\n",
       "      <td>...</td>\n",
       "      <td>...</td>\n",
       "      <td>...</td>\n",
       "      <td>...</td>\n",
       "      <td>...</td>\n",
       "      <td>...</td>\n",
       "      <td>...</td>\n",
       "      <td>...</td>\n",
       "    </tr>\n",
       "    <tr>\n",
       "      <th>4231</th>\n",
       "      <td>700000.0</td>\n",
       "      <td>9</td>\n",
       "      <td>3.00</td>\n",
       "      <td>3680</td>\n",
       "      <td>4400</td>\n",
       "      <td>2.0</td>\n",
       "      <td>0</td>\n",
       "      <td>2830</td>\n",
       "      <td>850.0</td>\n",
       "      <td>0</td>\n",
       "      <td>3</td>\n",
       "      <td>7</td>\n",
       "      <td>Average</td>\n",
       "    </tr>\n",
       "    <tr>\n",
       "      <th>19239</th>\n",
       "      <td>660000.0</td>\n",
       "      <td>10</td>\n",
       "      <td>3.00</td>\n",
       "      <td>2920</td>\n",
       "      <td>3745</td>\n",
       "      <td>2.0</td>\n",
       "      <td>0</td>\n",
       "      <td>1860</td>\n",
       "      <td>1060.0</td>\n",
       "      <td>0</td>\n",
       "      <td>4</td>\n",
       "      <td>7</td>\n",
       "      <td>Average</td>\n",
       "    </tr>\n",
       "    <tr>\n",
       "      <th>15147</th>\n",
       "      <td>650000.0</td>\n",
       "      <td>10</td>\n",
       "      <td>2.00</td>\n",
       "      <td>3610</td>\n",
       "      <td>11914</td>\n",
       "      <td>2.0</td>\n",
       "      <td>0</td>\n",
       "      <td>3010</td>\n",
       "      <td>600.0</td>\n",
       "      <td>0</td>\n",
       "      <td>4</td>\n",
       "      <td>7</td>\n",
       "      <td>Average</td>\n",
       "    </tr>\n",
       "    <tr>\n",
       "      <th>13301</th>\n",
       "      <td>1150000.0</td>\n",
       "      <td>10</td>\n",
       "      <td>5.25</td>\n",
       "      <td>4590</td>\n",
       "      <td>10920</td>\n",
       "      <td>1.0</td>\n",
       "      <td>0</td>\n",
       "      <td>2500</td>\n",
       "      <td>2090.0</td>\n",
       "      <td>0</td>\n",
       "      <td>3</td>\n",
       "      <td>9</td>\n",
       "      <td>Better</td>\n",
       "    </tr>\n",
       "    <tr>\n",
       "      <th>8748</th>\n",
       "      <td>520000.0</td>\n",
       "      <td>11</td>\n",
       "      <td>3.00</td>\n",
       "      <td>3000</td>\n",
       "      <td>4960</td>\n",
       "      <td>2.0</td>\n",
       "      <td>0</td>\n",
       "      <td>2400</td>\n",
       "      <td>600.0</td>\n",
       "      <td>1</td>\n",
       "      <td>3</td>\n",
       "      <td>7</td>\n",
       "      <td>Average</td>\n",
       "    </tr>\n",
       "  </tbody>\n",
       "</table>\n",
       "<p>21596 rows × 13 columns</p>\n",
       "</div>"
      ],
      "text/plain": [
       "           price  bedrooms  bathrooms  sqft_living  sqft_lot  floors  \\\n",
       "9877    713000.0         1       1.00         1180      4000     1.5   \n",
       "9536    190000.0         1       1.00          720      4800     1.0   \n",
       "14332   321500.0         1       1.00          730      1942     1.0   \n",
       "14340   325000.0         1       1.00         1220     12426     1.0   \n",
       "12823   305000.0         1       1.00          900      7500     1.0   \n",
       "...          ...       ...        ...          ...       ...     ...   \n",
       "4231    700000.0         9       3.00         3680      4400     2.0   \n",
       "19239   660000.0        10       3.00         2920      3745     2.0   \n",
       "15147   650000.0        10       2.00         3610     11914     2.0   \n",
       "13301  1150000.0        10       5.25         4590     10920     1.0   \n",
       "8748    520000.0        11       3.00         3000      4960     2.0   \n",
       "\n",
       "       waterfront  sqft_above sqft_basement  yr_renovated  condition_num  \\\n",
       "9877            0         840         340.0             0              4   \n",
       "9536            0         720           0.0             0              3   \n",
       "14332           0         730           0.0             0              3   \n",
       "14340           0        1220           0.0             0              4   \n",
       "12823           0         900           0.0             0              3   \n",
       "...           ...         ...           ...           ...            ...   \n",
       "4231            0        2830         850.0             0              3   \n",
       "19239           0        1860        1060.0             0              4   \n",
       "15147           0        3010         600.0             0              4   \n",
       "13301           0        2500        2090.0             0              3   \n",
       "8748            0        2400         600.0             1              3   \n",
       "\n",
       "       grade_num grade_name  \n",
       "9877           8       Good  \n",
       "9536           6        Low  \n",
       "14332          7    Average  \n",
       "14340          6        Low  \n",
       "12823          5       Fair  \n",
       "...          ...        ...  \n",
       "4231           7    Average  \n",
       "19239          7    Average  \n",
       "15147          7    Average  \n",
       "13301          9     Better  \n",
       "8748           7    Average  \n",
       "\n",
       "[21596 rows x 13 columns]"
      ]
     },
     "execution_count": 29,
     "metadata": {},
     "output_type": "execute_result"
    }
   ],
   "source": [
    "df = df.loc[(df['bedrooms'] != 33)]\n",
    "df.sort_values(by='bedrooms')"
   ]
  },
  {
   "cell_type": "markdown",
   "metadata": {
    "id": "JEYQVdNF8jvE"
   },
   "source": [
    "We tried convert the datatype of the sqf_basement column but an error occured stating could not convert string to float: '?'. Meaning some values are missing.The decision was to make another column that included values gotten from deducting sqft_above from sqft_living. We then filled the column with binary values 0 and 1, 0 representing houses without a basement and 1 with those with a basement."
   ]
  },
  {
   "cell_type": "code",
   "execution_count": 32,
   "metadata": {
    "id": "VVUJYCr36lra"
   },
   "outputs": [],
   "source": [
    "#dropping original column\n",
    "df = df.drop('sqft_basement', axis=1)"
   ]
  },
  {
   "cell_type": "code",
   "execution_count": 33,
   "metadata": {
    "colab": {
     "base_uri": "https://localhost:8080/",
     "height": 132
    },
    "id": "6AUZqHmS6lor",
    "outputId": "e302d48c-da19-46b9-95ea-4259e36a1cf6"
   },
   "outputs": [
    {
     "data": {
      "text/html": [
       "<div>\n",
       "<style scoped>\n",
       "    .dataframe tbody tr th:only-of-type {\n",
       "        vertical-align: middle;\n",
       "    }\n",
       "\n",
       "    .dataframe tbody tr th {\n",
       "        vertical-align: top;\n",
       "    }\n",
       "\n",
       "    .dataframe thead th {\n",
       "        text-align: right;\n",
       "    }\n",
       "</style>\n",
       "<table border=\"1\" class=\"dataframe\">\n",
       "  <thead>\n",
       "    <tr style=\"text-align: right;\">\n",
       "      <th></th>\n",
       "      <th>price</th>\n",
       "      <th>bedrooms</th>\n",
       "      <th>bathrooms</th>\n",
       "      <th>sqft_living</th>\n",
       "      <th>sqft_lot</th>\n",
       "      <th>floors</th>\n",
       "      <th>waterfront</th>\n",
       "      <th>sqft_above</th>\n",
       "      <th>yr_renovated</th>\n",
       "      <th>condition_num</th>\n",
       "      <th>grade_num</th>\n",
       "      <th>grade_name</th>\n",
       "      <th>sqft_basement</th>\n",
       "    </tr>\n",
       "  </thead>\n",
       "  <tbody>\n",
       "    <tr>\n",
       "      <th>0</th>\n",
       "      <td>221900.0</td>\n",
       "      <td>3</td>\n",
       "      <td>1.00</td>\n",
       "      <td>1180</td>\n",
       "      <td>5650</td>\n",
       "      <td>1.0</td>\n",
       "      <td>0</td>\n",
       "      <td>1180</td>\n",
       "      <td>0</td>\n",
       "      <td>3</td>\n",
       "      <td>7</td>\n",
       "      <td>Average</td>\n",
       "      <td>0</td>\n",
       "    </tr>\n",
       "    <tr>\n",
       "      <th>1</th>\n",
       "      <td>538000.0</td>\n",
       "      <td>3</td>\n",
       "      <td>2.25</td>\n",
       "      <td>2570</td>\n",
       "      <td>7242</td>\n",
       "      <td>2.0</td>\n",
       "      <td>0</td>\n",
       "      <td>2170</td>\n",
       "      <td>1</td>\n",
       "      <td>3</td>\n",
       "      <td>7</td>\n",
       "      <td>Average</td>\n",
       "      <td>400</td>\n",
       "    </tr>\n",
       "  </tbody>\n",
       "</table>\n",
       "</div>"
      ],
      "text/plain": [
       "      price  bedrooms  bathrooms  sqft_living  sqft_lot  floors  waterfront  \\\n",
       "0  221900.0         3       1.00         1180      5650     1.0           0   \n",
       "1  538000.0         3       2.25         2570      7242     2.0           0   \n",
       "\n",
       "   sqft_above  yr_renovated  condition_num  grade_num grade_name  \\\n",
       "0        1180             0              3          7    Average   \n",
       "1        2170             1              3          7    Average   \n",
       "\n",
       "   sqft_basement  \n",
       "0              0  \n",
       "1            400  "
      ]
     },
     "execution_count": 33,
     "metadata": {},
     "output_type": "execute_result"
    }
   ],
   "source": [
    "df['sqft_basement'] = df['sqft_living'] - df['sqft_above']\n",
    "df.head(2)"
   ]
  },
  {
   "cell_type": "code",
   "execution_count": 34,
   "metadata": {
    "colab": {
     "base_uri": "https://localhost:8080/"
    },
    "id": "AuO_MOuZ-O3c",
    "outputId": "0e808b63-c2d2-4607-fea5-c7f1de577e01"
   },
   "outputs": [
    {
     "data": {
      "text/plain": [
       "0    13110\n",
       "1     8486\n",
       "Name: sqft_basement, dtype: int64"
      ]
     },
     "execution_count": 34,
     "metadata": {},
     "output_type": "execute_result"
    }
   ],
   "source": [
    "df['sqft_basement'] = df['sqft_basement'].apply(lambda x: 0 if x == 0 else 1)\n",
    "df['sqft_basement'].value_counts()"
   ]
  },
  {
   "cell_type": "code",
   "execution_count": 35,
   "metadata": {
    "colab": {
     "base_uri": "https://localhost:8080/",
     "height": 132
    },
    "id": "38qlAbPQDltS",
    "outputId": "5ab42155-de06-41c0-b0b5-81351f9cc0f6"
   },
   "outputs": [
    {
     "data": {
      "text/html": [
       "<div>\n",
       "<style scoped>\n",
       "    .dataframe tbody tr th:only-of-type {\n",
       "        vertical-align: middle;\n",
       "    }\n",
       "\n",
       "    .dataframe tbody tr th {\n",
       "        vertical-align: top;\n",
       "    }\n",
       "\n",
       "    .dataframe thead th {\n",
       "        text-align: right;\n",
       "    }\n",
       "</style>\n",
       "<table border=\"1\" class=\"dataframe\">\n",
       "  <thead>\n",
       "    <tr style=\"text-align: right;\">\n",
       "      <th></th>\n",
       "      <th>price</th>\n",
       "      <th>bedrooms</th>\n",
       "      <th>bathrooms</th>\n",
       "      <th>sqft_living</th>\n",
       "      <th>sqft_lot</th>\n",
       "      <th>floors</th>\n",
       "      <th>waterfront</th>\n",
       "      <th>sqft_above</th>\n",
       "      <th>yr_renovated</th>\n",
       "      <th>condition_num</th>\n",
       "      <th>grade_num</th>\n",
       "      <th>grade_name</th>\n",
       "      <th>sqft_basement</th>\n",
       "    </tr>\n",
       "  </thead>\n",
       "  <tbody>\n",
       "    <tr>\n",
       "      <th>0</th>\n",
       "      <td>221900.0</td>\n",
       "      <td>3</td>\n",
       "      <td>1.00</td>\n",
       "      <td>1180</td>\n",
       "      <td>5650</td>\n",
       "      <td>1.0</td>\n",
       "      <td>0</td>\n",
       "      <td>1180</td>\n",
       "      <td>0</td>\n",
       "      <td>3</td>\n",
       "      <td>7</td>\n",
       "      <td>Average</td>\n",
       "      <td>0</td>\n",
       "    </tr>\n",
       "    <tr>\n",
       "      <th>1</th>\n",
       "      <td>538000.0</td>\n",
       "      <td>3</td>\n",
       "      <td>2.25</td>\n",
       "      <td>2570</td>\n",
       "      <td>7242</td>\n",
       "      <td>2.0</td>\n",
       "      <td>0</td>\n",
       "      <td>2170</td>\n",
       "      <td>1</td>\n",
       "      <td>3</td>\n",
       "      <td>7</td>\n",
       "      <td>Average</td>\n",
       "      <td>1</td>\n",
       "    </tr>\n",
       "  </tbody>\n",
       "</table>\n",
       "</div>"
      ],
      "text/plain": [
       "      price  bedrooms  bathrooms  sqft_living  sqft_lot  floors  waterfront  \\\n",
       "0  221900.0         3       1.00         1180      5650     1.0           0   \n",
       "1  538000.0         3       2.25         2570      7242     2.0           0   \n",
       "\n",
       "   sqft_above  yr_renovated  condition_num  grade_num grade_name  \\\n",
       "0        1180             0              3          7    Average   \n",
       "1        2170             1              3          7    Average   \n",
       "\n",
       "   sqft_basement  \n",
       "0              0  \n",
       "1              1  "
      ]
     },
     "execution_count": 35,
     "metadata": {},
     "output_type": "execute_result"
    }
   ],
   "source": [
    "df.head(2)"
   ]
  },
  {
   "cell_type": "code",
   "execution_count": 36,
   "metadata": {
    "colab": {
     "base_uri": "https://localhost:8080/"
    },
    "id": "bJeXUzEh6ll_",
    "outputId": "c5a10405-b19a-4d80-b884-9a8881bc1780"
   },
   "outputs": [
    {
     "name": "stdout",
     "output_type": "stream",
     "text": [
      "<class 'pandas.core.frame.DataFrame'>\n",
      "Int64Index: 21596 entries, 0 to 21596\n",
      "Data columns (total 13 columns):\n",
      " #   Column         Non-Null Count  Dtype  \n",
      "---  ------         --------------  -----  \n",
      " 0   price          21596 non-null  float64\n",
      " 1   bedrooms       21596 non-null  int64  \n",
      " 2   bathrooms      21596 non-null  float64\n",
      " 3   sqft_living    21596 non-null  int64  \n",
      " 4   sqft_lot       21596 non-null  int64  \n",
      " 5   floors         21596 non-null  float64\n",
      " 6   waterfront     21596 non-null  int64  \n",
      " 7   sqft_above     21596 non-null  int64  \n",
      " 8   yr_renovated   21596 non-null  int64  \n",
      " 9   condition_num  21596 non-null  int64  \n",
      " 10  grade_num      21596 non-null  int32  \n",
      " 11  grade_name     21596 non-null  object \n",
      " 12  sqft_basement  21596 non-null  int64  \n",
      "dtypes: float64(3), int32(1), int64(8), object(1)\n",
      "memory usage: 2.2+ MB\n"
     ]
    }
   ],
   "source": [
    "df.info()"
   ]
  },
  {
   "cell_type": "markdown",
   "metadata": {
    "id": "LvbbKX7YDfi8"
   },
   "source": [
    "This is how we categorised our metrics:\n",
    "\n",
    "categorical data: yr_renovated, waterfront,condition_num, grade_num,sqft_basement,bedrooms, bathrooms, floors.\n",
    "\n",
    "continuous data: price, sqft_living, sqft_above, sqft_lot, floors.\n",
    "\n"
   ]
  },
  {
   "cell_type": "code",
   "execution_count": 37,
   "metadata": {
    "colab": {
     "base_uri": "https://localhost:8080/",
     "height": 132
    },
    "id": "ov8-lSZXDatw",
    "outputId": "d062b85c-e23d-4d85-db9f-709fa27500d5"
   },
   "outputs": [
    {
     "data": {
      "text/html": [
       "<div>\n",
       "<style scoped>\n",
       "    .dataframe tbody tr th:only-of-type {\n",
       "        vertical-align: middle;\n",
       "    }\n",
       "\n",
       "    .dataframe tbody tr th {\n",
       "        vertical-align: top;\n",
       "    }\n",
       "\n",
       "    .dataframe thead th {\n",
       "        text-align: right;\n",
       "    }\n",
       "</style>\n",
       "<table border=\"1\" class=\"dataframe\">\n",
       "  <thead>\n",
       "    <tr style=\"text-align: right;\">\n",
       "      <th></th>\n",
       "      <th>price</th>\n",
       "      <th>bedrooms</th>\n",
       "      <th>bathrooms</th>\n",
       "      <th>sqft_living</th>\n",
       "      <th>sqft_lot</th>\n",
       "      <th>floors</th>\n",
       "      <th>waterfront</th>\n",
       "      <th>sqft_above</th>\n",
       "      <th>yr_renovated</th>\n",
       "      <th>condition_num</th>\n",
       "      <th>grade_num</th>\n",
       "      <th>sqft_basement</th>\n",
       "    </tr>\n",
       "  </thead>\n",
       "  <tbody>\n",
       "    <tr>\n",
       "      <th>0</th>\n",
       "      <td>221900.0</td>\n",
       "      <td>3</td>\n",
       "      <td>1.00</td>\n",
       "      <td>1180</td>\n",
       "      <td>5650</td>\n",
       "      <td>1.0</td>\n",
       "      <td>0</td>\n",
       "      <td>1180</td>\n",
       "      <td>0</td>\n",
       "      <td>3</td>\n",
       "      <td>7</td>\n",
       "      <td>0</td>\n",
       "    </tr>\n",
       "    <tr>\n",
       "      <th>1</th>\n",
       "      <td>538000.0</td>\n",
       "      <td>3</td>\n",
       "      <td>2.25</td>\n",
       "      <td>2570</td>\n",
       "      <td>7242</td>\n",
       "      <td>2.0</td>\n",
       "      <td>0</td>\n",
       "      <td>2170</td>\n",
       "      <td>1</td>\n",
       "      <td>3</td>\n",
       "      <td>7</td>\n",
       "      <td>1</td>\n",
       "    </tr>\n",
       "  </tbody>\n",
       "</table>\n",
       "</div>"
      ],
      "text/plain": [
       "      price  bedrooms  bathrooms  sqft_living  sqft_lot  floors  waterfront  \\\n",
       "0  221900.0         3       1.00         1180      5650     1.0           0   \n",
       "1  538000.0         3       2.25         2570      7242     2.0           0   \n",
       "\n",
       "   sqft_above  yr_renovated  condition_num  grade_num  sqft_basement  \n",
       "0        1180             0              3          7              0  \n",
       "1        2170             1              3          7              1  "
      ]
     },
     "execution_count": 37,
     "metadata": {},
     "output_type": "execute_result"
    }
   ],
   "source": [
    "final_df = df.drop(columns='grade_name')\n",
    "final_df.head(2)"
   ]
  },
  {
   "cell_type": "markdown",
   "metadata": {
    "id": "PSFyqDs_EmUh"
   },
   "source": [
    "We will now check for the distribution in each column including the price column as well as the correlation between the variables."
   ]
  },
  {
   "cell_type": "code",
   "execution_count": 38,
   "metadata": {
    "colab": {
     "base_uri": "https://localhost:8080/",
     "height": 810
    },
    "id": "PSboCVKJEl8g",
    "outputId": "30d608ae-cb5f-4c18-ae57-62f2c3d1091b"
   },
   "outputs": [
    {
     "data": {
      "image/png": "[encoded data removed]",
      "text/plain": [
       "<Figure size 864x720 with 12 Axes>"
      ]
     },
     "metadata": {
      "needs_background": "light"
     },
     "output_type": "display_data"
    }
   ],
   "source": [
    "final_df.hist(bins=50,figsize  = [12, 10]);"
   ]
  },
  {
   "cell_type": "code",
   "execution_count": 39,
   "metadata": {
    "colab": {
     "base_uri": "https://localhost:8080/",
     "height": 787
    },
    "id": "uJfnszZeDaqM",
    "outputId": "908a5fd9-9f70-4dcb-8028-72b2b7cff071"
   },
   "outputs": [
    {
     "data": {
      "image/png": "[encoded data removed]",
      "text/plain": [
       "<Figure size 720x576 with 2 Axes>"
      ]
     },
     "metadata": {},
     "output_type": "display_data"
    }
   ],
   "source": [
    "fig, ax = plt.subplots(figsize=(10, 8), facecolor='white')\n",
    "corr = final_df.corr()\n",
    "sns.heatmap(data=corr, ax=ax, cmap='coolwarm', annot=True)\n",
    "\n",
    "ax.set_title('Heatmap showing correlation between the Attributes');"
   ]
  },
  {
   "cell_type": "markdown",
   "metadata": {
    "id": "6GaycfCKKuXW"
   },
   "source": [
    "### Observations\n",
    "\n",
    "The above Heatmap is just to show us how the independent variables are correlated with the dependent variable(price).\n",
    "sqft_living has a high positive correlation with price being 0.7 while condition_num has a low positive correlation with the price.\n"
   ]
  },
  {
   "cell_type": "markdown",
   "metadata": {
    "id": "4-3laDMCKHqH"
   },
   "source": [
    "We plotted regplots to conduct Linearity checks for the continuous data that will help us in spotting multicollinearity."
   ]
  },
  {
   "cell_type": "code",
   "execution_count": 40,
   "metadata": {
    "colab": {
     "base_uri": "https://localhost:8080/",
     "height": 472
    },
    "id": "wXx5VY9uRtui",
    "outputId": "78c010c7-c76e-4768-d51c-6107753eaadb"
   },
   "outputs": [
    {
     "data": {
      "image/png": "[encoded data removed]",
      "text/plain": [
       "<Figure size 432x288 with 1 Axes>"
      ]
     },
     "metadata": {
      "needs_background": "light"
     },
     "output_type": "display_data"
    }
   ],
   "source": [
    "# Choose the two or more continuous variables to plot (e.g., 'sqft_living' vs. 'price')\n",
    "x_variable = 'sqft_living'\n",
    "y_variable = 'price'\n",
    "\n",
    "# Create a regression plot\n",
    "sns.regplot(data=final_df, x=x_variable, y=y_variable, scatter_kws={\"alpha\":0.5})\n",
    "\n",
    "# Add labels and title\n",
    "plt.xlabel(x_variable)\n",
    "plt.ylabel(y_variable)\n",
    "plt.title(f'Regression Plot: {x_variable} vs. {y_variable}')\n",
    "\n",
    "# Show the plot\n",
    "plt.show()"
   ]
  },
  {
   "cell_type": "markdown",
   "metadata": {
    "id": "Y-SBI7TYT7gR"
   },
   "source": [
    "We note that sqft_living has a high positive correlation with the price. This means that the high the square footage of living the higher the price."
   ]
  },
  {
   "cell_type": "code",
   "execution_count": 41,
   "metadata": {
    "colab": {
     "base_uri": "https://localhost:8080/",
     "height": 472
    },
    "id": "WkotlntQKkOz",
    "outputId": "d1463d98-dcee-4e0d-d160-08e36d109f3a"
   },
   "outputs": [
    {
     "data": {
      "image/png": "[encoded data removed]",
      "text/plain": [
       "<Figure size 432x288 with 1 Axes>"
      ]
     },
     "metadata": {
      "needs_background": "light"
     },
     "output_type": "display_data"
    }
   ],
   "source": [
    "# Choose the two continuous variables to plot\n",
    "x_variable = 'sqft_above'\n",
    "y_variable = 'price'\n",
    "\n",
    "# Create a regression plot\n",
    "sns.regplot(data=final_df, x=x_variable, y=y_variable, scatter_kws={\"alpha\":0.5})\n",
    "\n",
    "# Add labels and title\n",
    "plt.xlabel(x_variable)\n",
    "plt.ylabel(y_variable)\n",
    "plt.title(f'Regression Plot: {x_variable} vs. {y_variable}')\n",
    "\n",
    "# Show the plot\n",
    "plt.show()"
   ]
  },
  {
   "cell_type": "markdown",
   "metadata": {
    "id": "S1uPUNWZUbKk"
   },
   "source": [
    "From the above regression plot, we note that sqft_above has a moderate correlaton with the price. As the value of sqft_above increases, there is a moderate increase in price."
   ]
  },
  {
   "cell_type": "code",
   "execution_count": 42,
   "metadata": {
    "colab": {
     "base_uri": "https://localhost:8080/",
     "height": 472
    },
    "id": "3BKqo_PuTrZB",
    "outputId": "a3909f1d-4e05-4542-8a90-5e99d5fb7cb6"
   },
   "outputs": [
    {
     "data": {
      "image/png": "[encoded data removed]",
      "text/plain": [
       "<Figure size 432x288 with 1 Axes>"
      ]
     },
     "metadata": {
      "needs_background": "light"
     },
     "output_type": "display_data"
    }
   ],
   "source": [
    "# Choose the two continuous variables to plot\n",
    "x_variable = 'sqft_lot'\n",
    "y_variable = 'price'\n",
    "\n",
    "# Create a regression plot\n",
    "sns.regplot(data=final_df, x=x_variable, y=y_variable, scatter_kws={\"alpha\":0.5})\n",
    "\n",
    "# Add labels and title\n",
    "plt.xlabel(x_variable)\n",
    "plt.ylabel(y_variable)\n",
    "plt.title(f'Regression Plot: {x_variable} vs. {y_variable}')\n",
    "\n",
    "# Show the plot\n",
    "plt.show()"
   ]
  },
  {
   "cell_type": "markdown",
   "metadata": {
    "id": "eOSBkJbXVAe0"
   },
   "source": [
    "From the above, there is a low positive correlation between sqft_lot and the price. This means an increase in sqft_lot values has a minimum effect on the price."
   ]
  },
  {
   "cell_type": "code",
   "execution_count": 43,
   "metadata": {
    "colab": {
     "base_uri": "https://localhost:8080/",
     "height": 143
    },
    "id": "za5S21RSVwEF",
    "outputId": "8c5467de-4fab-4402-9135-9a6ab1b06a41"
   },
   "outputs": [
    {
     "data": {
      "text/html": [
       "<div>\n",
       "<style scoped>\n",
       "    .dataframe tbody tr th:only-of-type {\n",
       "        vertical-align: middle;\n",
       "    }\n",
       "\n",
       "    .dataframe tbody tr th {\n",
       "        vertical-align: top;\n",
       "    }\n",
       "\n",
       "    .dataframe thead th {\n",
       "        text-align: right;\n",
       "    }\n",
       "</style>\n",
       "<table border=\"1\" class=\"dataframe\">\n",
       "  <thead>\n",
       "    <tr style=\"text-align: right;\">\n",
       "      <th></th>\n",
       "      <th>sqft_lot</th>\n",
       "      <th>sqft_living</th>\n",
       "      <th>sqft_above</th>\n",
       "    </tr>\n",
       "  </thead>\n",
       "  <tbody>\n",
       "    <tr>\n",
       "      <th>sqft_lot</th>\n",
       "      <td>1.000000</td>\n",
       "      <td>0.173449</td>\n",
       "      <td>0.184134</td>\n",
       "    </tr>\n",
       "    <tr>\n",
       "      <th>sqft_living</th>\n",
       "      <td>0.173449</td>\n",
       "      <td>1.000000</td>\n",
       "      <td>0.876448</td>\n",
       "    </tr>\n",
       "    <tr>\n",
       "      <th>sqft_above</th>\n",
       "      <td>0.184134</td>\n",
       "      <td>0.876448</td>\n",
       "      <td>1.000000</td>\n",
       "    </tr>\n",
       "  </tbody>\n",
       "</table>\n",
       "</div>"
      ],
      "text/plain": [
       "             sqft_lot  sqft_living  sqft_above\n",
       "sqft_lot     1.000000     0.173449    0.184134\n",
       "sqft_living  0.173449     1.000000    0.876448\n",
       "sqft_above   0.184134     0.876448    1.000000"
      ]
     },
     "execution_count": 43,
     "metadata": {},
     "output_type": "execute_result"
    }
   ],
   "source": [
    "#Multicollinearity theshold corr>=0.75\n",
    "cont=['sqft_lot', 'sqft_living','sqft_above']\n",
    "corr_cont = df[cont].corr()\n",
    "corr_cont"
   ]
  },
  {
   "cell_type": "markdown",
   "metadata": {
    "id": "IPr0TIS9Wvpp"
   },
   "source": [
    "We note that sqft_living and sqft_above have high correlation between each other. We decide to drop sqft-above to avoid multicollinearity issues."
   ]
  },
  {
   "cell_type": "code",
   "execution_count": 44,
   "metadata": {
    "id": "r-4swzdKYMvD"
   },
   "outputs": [],
   "source": [
    "final_df.drop(columns = 'sqft_above', inplace=True)\n",
    "y = final_df['price']\n",
    "x = final_df.drop(columns='price')"
   ]
  },
  {
   "cell_type": "code",
   "execution_count": 45,
   "metadata": {
    "colab": {
     "base_uri": "https://localhost:8080/"
    },
    "id": "94A3hyroYQSC",
    "outputId": "429e6f78-9c6b-4cdb-a86c-17bf37f23dd6"
   },
   "outputs": [
    {
     "name": "stdout",
     "output_type": "stream",
     "text": [
      "Dependent variable y: price\n",
      "Independent variables x: ['bedrooms', 'bathrooms', 'sqft_living', 'sqft_lot', 'floors', 'waterfront', 'yr_renovated', 'condition_num', 'grade_num', 'sqft_basement']\n"
     ]
    }
   ],
   "source": [
    "#Print column names\n",
    "print(\"Dependent variable y:\" , 'price')\n",
    "print(\"Independent variables x:\", x.columns.tolist())"
   ]
  },
  {
   "cell_type": "markdown",
   "metadata": {
    "id": "RtIbDg4BzoPH"
   },
   "source": [
    "## Modelling"
   ]
  },
  {
   "cell_type": "markdown",
   "metadata": {
    "id": "h2sPHz4xak__"
   },
   "source": [
    "Train-Test split"
   ]
  },
  {
   "cell_type": "code",
   "execution_count": 46,
   "metadata": {
    "colab": {
     "base_uri": "https://localhost:8080/"
    },
    "id": "xytjyoeSap_P",
    "outputId": "1843c6cc-6b5c-4f96-cce6-78d99ba60cec"
   },
   "outputs": [
    {
     "name": "stdout",
     "output_type": "stream",
     "text": [
      "x_train shape: (17276, 10)\n",
      "x_test shape: (4320, 10)\n",
      "y_train shape: (17276,)\n",
      "y_test shape: (4320,)\n"
     ]
    }
   ],
   "source": [
    "# Split the data into training and testing sets (e.g., 80% train, 20% test)\n",
    "x_train, x_test, y_train, y_test = train_test_split(x, y, test_size=0.2, random_state=42)\n",
    "\n",
    "# Print the shapes of the resulting datasets\n",
    "print(\"x_train shape:\", x_train.shape)\n",
    "print(\"x_test shape:\", x_test.shape)\n",
    "print(\"y_train shape:\", y_train.shape)\n",
    "print(\"y_test shape:\", y_test.shape)"
   ]
  },
  {
   "cell_type": "markdown",
   "metadata": {
    "id": "2lRZ0-5xgEOO"
   },
   "source": [
    "### Baseline Model"
   ]
  },
  {
   "cell_type": "markdown",
   "metadata": {},
   "source": [
    "The baseline model is a simple model  used to contextualize the results of trained models. We create the basiline model to provide a reference point for measuring the performance of other models. We start with a simpler model as our base and work through it to make a much better base. In this instance we used y = price as the dependent variable and square foot living independent varible"
   ]
  },
  {
   "cell_type": "code",
   "execution_count": 47,
   "metadata": {
    "id": "0OH0mS3VPOdt"
   },
   "outputs": [],
   "source": [
    "#independent varible\n",
    "x_base = df['sqft_living']"
   ]
  },
  {
   "cell_type": "code",
   "execution_count": 48,
   "metadata": {
    "colab": {
     "base_uri": "https://localhost:8080/"
    },
    "id": "Qak2TjMZQqEa",
    "outputId": "b605e0df-e054-47a6-b3d0-6dbbf02ae54e"
   },
   "outputs": [
    {
     "name": "stdout",
     "output_type": "stream",
     "text": [
      "                            OLS Regression Results                            \n",
      "==============================================================================\n",
      "Dep. Variable:                  price   R-squared:                       0.493\n",
      "Model:                            OLS   Adj. R-squared:                  0.493\n",
      "Method:                 Least Squares   F-statistic:                 2.097e+04\n",
      "Date:                Sun, 10 Sep 2023   Prob (F-statistic):               0.00\n",
      "Time:                        15:13:05   Log-Likelihood:            -3.0005e+05\n",
      "No. Observations:               21596   AIC:                         6.001e+05\n",
      "Df Residuals:                   21594   BIC:                         6.001e+05\n",
      "Df Model:                           1                                         \n",
      "Covariance Type:            nonrobust                                         \n",
      "===============================================================================\n",
      "                  coef    std err          t      P>|t|      [0.025      0.975]\n",
      "-------------------------------------------------------------------------------\n",
      "const       -4.401e+04   4410.123     -9.980      0.000   -5.27e+04   -3.54e+04\n",
      "sqft_living   280.8688      1.939    144.820      0.000     277.067     284.670\n",
      "==============================================================================\n",
      "Omnibus:                    14801.492   Durbin-Watson:                   1.982\n",
      "Prob(Omnibus):                  0.000   Jarque-Bera (JB):           542642.481\n",
      "Skew:                           2.820   Prob(JB):                         0.00\n",
      "Kurtosis:                      26.901   Cond. No.                     5.63e+03\n",
      "==============================================================================\n",
      "\n",
      "Notes:\n",
      "[1] Standard Errors assume that the covariance matrix of the errors is correctly specified.\n",
      "[2] The condition number is large, 5.63e+03. This might indicate that there are\n",
      "strong multicollinearity or other numerical problems.\n"
     ]
    }
   ],
   "source": [
    "#Add a constant term to the features for OLS\n",
    "x_base= sm.add_constant(x_base)\n",
    "# Fit an OLS model\n",
    "model = sm.OLS(y, x_base).fit()\n",
    "\n",
    "print(model.summary())"
   ]
  },
  {
   "cell_type": "markdown",
   "metadata": {
    "id": "2eaEMZrrRjTt"
   },
   "source": [
    "### Model 1\n",
    "\n",
    "We wil try to see if by including more variables the model will improve."
   ]
  },
  {
   "cell_type": "code",
   "execution_count": 49,
   "metadata": {
    "colab": {
     "base_uri": "https://localhost:8080/"
    },
    "id": "0w2s-oIoQp6t",
    "outputId": "5b7e3817-ebc8-4f03-a3ed-667b6e3c14b9"
   },
   "outputs": [
    {
     "name": "stdout",
     "output_type": "stream",
     "text": [
      "x_train shape: (17276, 10)\n",
      "x_test shape: (4320, 10)\n",
      "y_train shape: (17276,)\n",
      "y_test shape: (4320,)\n"
     ]
    }
   ],
   "source": [
    "# Split the data into training and testing sets (e.g., 80% train, 20% test)\n",
    "x_train, x_test, y_train, y_test = train_test_split(x, y, test_size=0.2, random_state=42)\n",
    "\n",
    "# Print the shapes of the resulting datasets\n",
    "print(\"x_train shape:\", x_train.shape)\n",
    "print(\"x_test shape:\", x_test.shape)\n",
    "print(\"y_train shape:\", y_train.shape)\n",
    "print(\"y_test shape:\", y_test.shape)"
   ]
  },
  {
   "cell_type": "code",
   "execution_count": 50,
   "metadata": {
    "colab": {
     "base_uri": "https://localhost:8080/"
    },
    "id": "eebR9hQqfhpn",
    "outputId": "341b9a2a-0535-4258-96bf-c90c3d530e28"
   },
   "outputs": [
    {
     "name": "stdout",
     "output_type": "stream",
     "text": [
      "Train RMSE: 232918.7227706819\n",
      "Test RMSE: 229101.33873950972\n",
      "                            OLS Regression Results                            \n",
      "==============================================================================\n",
      "Dep. Variable:                  price   R-squared:                       0.601\n",
      "Model:                            OLS   Adj. R-squared:                  0.601\n",
      "Method:                 Least Squares   F-statistic:                     2600.\n",
      "Date:                Sun, 10 Sep 2023   Prob (F-statistic):               0.00\n",
      "Time:                        15:13:31   Log-Likelihood:            -2.3802e+05\n",
      "No. Observations:               17276   AIC:                         4.761e+05\n",
      "Df Residuals:                   17265   BIC:                         4.761e+05\n",
      "Df Model:                          10                                         \n",
      "Covariance Type:            nonrobust                                         \n",
      "=================================================================================\n",
      "                    coef    std err          t      P>|t|      [0.025      0.975]\n",
      "---------------------------------------------------------------------------------\n",
      "const         -7.814e+05   1.99e+04    -39.336      0.000    -8.2e+05   -7.43e+05\n",
      "bedrooms      -4.091e+04   2533.182    -16.148      0.000   -4.59e+04   -3.59e+04\n",
      "bathrooms     -1.924e+04   4000.505     -4.809      0.000   -2.71e+04   -1.14e+04\n",
      "sqft_living     202.0745      3.961     51.019      0.000     194.311     209.838\n",
      "sqft_lot         -0.3158      0.044     -7.182      0.000      -0.402      -0.230\n",
      "floors        -3494.6175   4318.995     -0.809      0.418    -1.2e+04    4971.050\n",
      "waterfront     7.626e+05   2.17e+04     35.146      0.000     7.2e+05    8.05e+05\n",
      "yr_renovated   1.587e+05   9840.279     16.131      0.000    1.39e+05    1.78e+05\n",
      "condition_num  6.264e+04   2843.796     22.025      0.000    5.71e+04    6.82e+04\n",
      "grade_num       1.11e+05   2536.920     43.739      0.000    1.06e+05    1.16e+05\n",
      "sqft_basement  4.276e+04   4094.512     10.443      0.000    3.47e+04    5.08e+04\n",
      "==============================================================================\n",
      "Omnibus:                    12599.031   Durbin-Watson:                   1.999\n",
      "Prob(Omnibus):                  0.000   Jarque-Bera (JB):           718345.414\n",
      "Skew:                           2.942   Prob(JB):                         0.00\n",
      "Kurtosis:                      34.037   Cond. No.                     5.40e+05\n",
      "==============================================================================\n",
      "\n",
      "Notes:\n",
      "[1] Standard Errors assume that the covariance matrix of the errors is correctly specified.\n",
      "[2] The condition number is large, 5.4e+05. This might indicate that there are\n",
      "strong multicollinearity or other numerical problems.\n"
     ]
    }
   ],
   "source": [
    "#Training the Algorithm\n",
    "#Add a constant term to the features for OLS\n",
    "x_train = sm.add_constant(x_train)\n",
    "x_test = sm.add_constant(x_test)\n",
    "\n",
    "# Fit an OLS model\n",
    "model = sm.OLS(y_train, x_train).fit()\n",
    "\n",
    "# Calculate predictions on training and testing sets\n",
    "y_train_pred = model.predict(x_train)\n",
    "y_test_pred = model.predict(x_test)\n",
    "\n",
    "# Calculate RMSE for training and testing sets\n",
    "train_rmse = np.sqrt(mean_squared_error(y_train, y_train_pred))\n",
    "test_rmse = np.sqrt(mean_squared_error(y_test, y_test_pred))\n",
    "\n",
    "# Print the RMSE values and model summary\n",
    "print(\"Train RMSE:\", train_rmse)\n",
    "print(\"Test RMSE:\", test_rmse)\n",
    "print(model.summary())"
   ]
  },
  {
   "cell_type": "markdown",
   "metadata": {
    "id": "Wxy10UAEl1b-"
   },
   "source": [
    "### Observations\n",
    "\n",
    "On our baseline model, we have an R-squared value of 0.601 meaning that 60.1% of variation in price is due to the independent variables. The RMSE of the train set is 232918.7 and the RMSE of test set is 229101.3.The baseline model also has a skew of 2.942 which means that it is positively skewed. This means the dataset has a high percentgae of outliers.\n",
    "It has a high Kurtosis of 34.037 indicating the dataset has high outliers. We also note that Floor has a p-value of 0.418 which is greater than alpha(0.05) indicating that it is an insignificant feature."
   ]
  },
  {
   "cell_type": "code",
   "execution_count": 51,
   "metadata": {
    "id": "6pQv2YjpSyFs"
   },
   "outputs": [],
   "source": [
    "# Update qq_plot function to save fig\n",
    "def qq_plot(model):\n",
    "\n",
    "    fig, (ax0, ax1) = plt.subplots(1, 2, figsize=(12, 6))\n",
    "\n",
    "    ax0.hist(model.resid)\n",
    "    ax0.set(xlabel='Residual', ylabel='Frequency', title='Distribution of Residuals')\n",
    "\n",
    "    sm.qqplot(model.resid, stats.t, fit=True, line=\"45\", ax=ax1)\n",
    "    ax1.set(title='QQ Plot')\n",
    "\n",
    "    fig.suptitle('Normality of Residuals')\n",
    "\n",
    "    fig.show()\n",
    "\n",
    "\n",
    "    return qq_plot"
   ]
  },
  {
   "cell_type": "code",
   "execution_count": 52,
   "metadata": {
    "colab": {
     "base_uri": "https://localhost:8080/",
     "height": 561
    },
    "id": "_6GZvEiGS0VA",
    "outputId": "3c96a05b-cc74-41a0-b3c4-0305d97ac713"
   },
   "outputs": [
    {
     "name": "stderr",
     "output_type": "stream",
     "text": [
      "<ipython-input-51-cef8f32ba813>:14: UserWarning: Matplotlib is currently using module://ipykernel.pylab.backend_inline, which is a non-GUI backend, so cannot show the figure.\n",
      "  fig.show()\n"
     ]
    },
    {
     "data": {
      "image/png": "[encoded data removed]",
      "text/plain": [
       "<Figure size 864x432 with 2 Axes>"
      ]
     },
     "metadata": {
      "needs_background": "light"
     },
     "output_type": "display_data"
    }
   ],
   "source": [
    "qq_plot (model);\n"
   ]
  },
  {
   "cell_type": "markdown",
   "metadata": {
    "id": "TZ0G5hr10KAz"
   },
   "source": [
    "### Observation\n",
    "According to the Q&Q plot above, the residuals are not normally distributed.\n"
   ]
  },
  {
   "cell_type": "code",
   "execution_count": 55,
   "metadata": {
    "id": "MwdZC7jlWE-9"
   },
   "outputs": [],
   "source": [
    "# Residual plot function\n",
    "def residual_plot_log(X_train,X_test,y_train,y_test):\n",
    "\n",
    "    linreg = LinearRegression()\n",
    "    linreg.fit(X_train, y_train)\n",
    "\n",
    "    y_hat_train = linreg.predict(X_train)\n",
    "    y_hat_test = linreg.predict(X_test)\n",
    "\n",
    "    fig, axes = plt.subplots(1, 2, figsize=(12, 6))\n",
    "    fig.suptitle('Residual Plots')\n",
    "\n",
    "    axes[0].scatter(y_train, y_train-y_hat_train)\n",
    "    axes[0].scatter(y_test, y_test-y_hat_test, color='orange')\n",
    "    axes[0].set(xlabel='Actual Price', ylabel='residual', title='Residual per Price')\n",
    "    axes[0].hlines(0, xmin=11, xmax=15, colors='red')\n",
    "\n",
    "    axes[1].scatter(y_train, y_hat_train)\n",
    "    axes[1].scatter(y_test, y_hat_test, color='orange')\n",
    "    axes[1].plot([11.5, 15], [11.5, 15], color='red', linestyle='-')\n",
    "    axes[1].set(xlabel='Actual Price', ylabel='Predicted Price', title='Actual vs Predicted Price')\n",
    "    fig.show()\n",
    "    return residual_plot_log"
   ]
  },
  {
   "cell_type": "code",
   "execution_count": 54,
   "metadata": {
    "colab": {
     "base_uri": "https://localhost:8080/",
     "height": 300
    },
    "id": "Jr9hzoLASES1",
    "outputId": "a3ac2ccd-5719-4b59-e45d-4d147a52d13c"
   },
   "outputs": [
    {
     "data": {
      "text/html": [
       "<div>\n",
       "<style scoped>\n",
       "    .dataframe tbody tr th:only-of-type {\n",
       "        vertical-align: middle;\n",
       "    }\n",
       "\n",
       "    .dataframe tbody tr th {\n",
       "        vertical-align: top;\n",
       "    }\n",
       "\n",
       "    .dataframe thead th {\n",
       "        text-align: right;\n",
       "    }\n",
       "</style>\n",
       "<table border=\"1\" class=\"dataframe\">\n",
       "  <thead>\n",
       "    <tr style=\"text-align: right;\">\n",
       "      <th></th>\n",
       "      <th>Actual</th>\n",
       "      <th>Predicted</th>\n",
       "    </tr>\n",
       "  </thead>\n",
       "  <tbody>\n",
       "    <tr>\n",
       "      <th>count</th>\n",
       "      <td>4.320000e+03</td>\n",
       "      <td>4.320000e+03</td>\n",
       "    </tr>\n",
       "    <tr>\n",
       "      <th>mean</th>\n",
       "      <td>5.366478e+05</td>\n",
       "      <td>5.404115e+05</td>\n",
       "    </tr>\n",
       "    <tr>\n",
       "      <th>std</th>\n",
       "      <td>3.619991e+05</td>\n",
       "      <td>2.838553e+05</td>\n",
       "    </tr>\n",
       "    <tr>\n",
       "      <th>min</th>\n",
       "      <td>8.300000e+04</td>\n",
       "      <td>-2.265510e+05</td>\n",
       "    </tr>\n",
       "    <tr>\n",
       "      <th>25%</th>\n",
       "      <td>3.199500e+05</td>\n",
       "      <td>3.504784e+05</td>\n",
       "    </tr>\n",
       "    <tr>\n",
       "      <th>50%</th>\n",
       "      <td>4.500000e+05</td>\n",
       "      <td>4.857550e+05</td>\n",
       "    </tr>\n",
       "    <tr>\n",
       "      <th>75%</th>\n",
       "      <td>6.400000e+05</td>\n",
       "      <td>6.754477e+05</td>\n",
       "    </tr>\n",
       "    <tr>\n",
       "      <th>max</th>\n",
       "      <td>7.060000e+06</td>\n",
       "      <td>3.310035e+06</td>\n",
       "    </tr>\n",
       "  </tbody>\n",
       "</table>\n",
       "</div>"
      ],
      "text/plain": [
       "             Actual     Predicted\n",
       "count  4.320000e+03  4.320000e+03\n",
       "mean   5.366478e+05  5.404115e+05\n",
       "std    3.619991e+05  2.838553e+05\n",
       "min    8.300000e+04 -2.265510e+05\n",
       "25%    3.199500e+05  3.504784e+05\n",
       "50%    4.500000e+05  4.857550e+05\n",
       "75%    6.400000e+05  6.754477e+05\n",
       "max    7.060000e+06  3.310035e+06"
      ]
     },
     "execution_count": 54,
     "metadata": {},
     "output_type": "execute_result"
    }
   ],
   "source": [
    "#let's compare our predicted results to the actual data from the test set:\n",
    "y_test_array = y_test.to_numpy()\n",
    "y_pred_array = y_test_pred.to_numpy()\n",
    "# Compare actual and predicted values\n",
    "comparison_frame = pd.DataFrame({'Actual': y_test_array.flatten(), 'Predicted': y_pred_array.flatten()})\n",
    "\n",
    "# Now you can describe the comparison_frame\n",
    "comparison_frame.describe()"
   ]
  },
  {
   "cell_type": "code",
   "execution_count": 56,
   "metadata": {
    "colab": {
     "base_uri": "https://localhost:8080/",
     "height": 569
    },
    "id": "vykGS0XhWNkw",
    "outputId": "680fe4e1-7fe7-4f12-abc8-369681da0f82"
   },
   "outputs": [
    {
     "name": "stderr",
     "output_type": "stream",
     "text": [
      "<ipython-input-55-539f0926a515>:22: UserWarning: Matplotlib is currently using module://ipykernel.pylab.backend_inline, which is a non-GUI backend, so cannot show the figure.\n",
      "  fig.show()\n"
     ]
    },
    {
     "data": {
      "image/png": "[encoded data removed]",
      "text/plain": [
       "<Figure size 864x432 with 2 Axes>"
      ]
     },
     "metadata": {
      "needs_background": "light"
     },
     "output_type": "display_data"
    }
   ],
   "source": [
    "residual_plot_log(x_train, x_test, y_train, y_test);\n"
   ]
  },
  {
   "cell_type": "markdown",
   "metadata": {
    "id": "sehd9rJyzwUf"
   },
   "source": [
    "Removing outliers since it is positively skewed"
   ]
  },
  {
   "cell_type": "code",
   "execution_count": 57,
   "metadata": {
    "id": "DwsqAwXyKEdi"
   },
   "outputs": [],
   "source": [
    "# Remove outliers from both X and y\n",
    "def remove_outliers_tukey(X, y, threshold=1.5):\n",
    "    # Calculate the IQR for y\n",
    "    q25, q75 = np.percentile(y, [25, 75])\n",
    "    iqr = q75 - q25\n",
    "\n",
    "    # Identify the outliers for y\n",
    "    y_outliers = (y < q25 - threshold * iqr) | (y > q75 + threshold * iqr)\n",
    "\n",
    "    # Identify the outliers for each feature in X\n",
    "    x_outliers = np.any((X < (q25 - threshold * iqr)) | (X > (q75 + threshold * iqr)), axis=1)\n",
    "\n",
    "    # Combine the outlier masks for X and y\n",
    "    outliers = x_outliers | y_outliers\n",
    "\n",
    "    # Remove the outliers from both X and y\n",
    "    X_clean = X[~outliers]\n",
    "    y_clean = y[~outliers]\n",
    "\n",
    "    return X_clean, y_clean"
   ]
  },
  {
   "cell_type": "code",
   "execution_count": 58,
   "metadata": {
    "colab": {
     "base_uri": "https://localhost:8080/"
    },
    "id": "3FvAmAQMKKii",
    "outputId": "3699792e-1de3-4237-cf1c-90c5528533c7"
   },
   "outputs": [
    {
     "name": "stdout",
     "output_type": "stream",
     "text": [
      "(16348, 10)\n",
      "(4088, 10)\n",
      "(16348,)\n",
      "(4088,)\n"
     ]
    }
   ],
   "source": [
    "#Remove outliers from both X and y\n",
    "X_clean, y_clean = remove_outliers_tukey(x, y)\n",
    "\n",
    "# Split the cleaned data into training and testing sets\n",
    "X_train_clean, X_test_clean, y_train_clean, y_test_clean = train_test_split(X_clean, y_clean, test_size=0.2, random_state=42)\n",
    "print(X_train_clean.shape)\n",
    "print(X_test_clean.shape)\n",
    "print(y_train_clean.shape)\n",
    "print(y_test_clean.shape)"
   ]
  },
  {
   "cell_type": "code",
   "execution_count": 59,
   "metadata": {
    "colab": {
     "base_uri": "https://localhost:8080/"
    },
    "id": "ESGmZ1WdWmRL",
    "outputId": "5eff0f46-b0dc-4331-e7ba-1fa481df7c19"
   },
   "outputs": [
    {
     "data": {
      "text/plain": [
       "Index(['bedrooms', 'bathrooms', 'sqft_living', 'sqft_lot', 'floors',\n",
       "       'waterfront', 'yr_renovated', 'condition_num', 'grade_num',\n",
       "       'sqft_basement'],\n",
       "      dtype='object')"
      ]
     },
     "execution_count": 59,
     "metadata": {},
     "output_type": "execute_result"
    }
   ],
   "source": [
    "X_clean.columns"
   ]
  },
  {
   "cell_type": "code",
   "execution_count": 60,
   "metadata": {
    "colab": {
     "base_uri": "https://localhost:8080/"
    },
    "id": "l_5sRpPKKKe4",
    "outputId": "45271422-1928-4c86-e7f5-f18efe9d0681"
   },
   "outputs": [
    {
     "name": "stdout",
     "output_type": "stream",
     "text": [
      "Model with Outliers Removed - Train RMSE: 146708.64419837348\n",
      "Model with Outliers Removed - Test RMSE: 146903.4663359656\n",
      "                            OLS Regression Results                            \n",
      "==============================================================================\n",
      "Dep. Variable:                  price   R-squared:                       0.503\n",
      "Model:                            OLS   Adj. R-squared:                  0.502\n",
      "Method:                 Least Squares   F-statistic:                     1651.\n",
      "Date:                Sun, 10 Sep 2023   Prob (F-statistic):               0.00\n",
      "Time:                        15:14:29   Log-Likelihood:            -2.1768e+05\n",
      "No. Observations:               16348   AIC:                         4.354e+05\n",
      "Df Residuals:                   16337   BIC:                         4.355e+05\n",
      "Df Model:                          10                                         \n",
      "Covariance Type:            nonrobust                                         \n",
      "=================================================================================\n",
      "                    coef    std err          t      P>|t|      [0.025      0.975]\n",
      "---------------------------------------------------------------------------------\n",
      "const         -4.831e+05   1.32e+04    -36.500      0.000   -5.09e+05   -4.57e+05\n",
      "bedrooms      -1.367e+04   1694.721     -8.063      0.000    -1.7e+04   -1.03e+04\n",
      "bathrooms     -2.286e+04   2632.429     -8.686      0.000    -2.8e+04   -1.77e+04\n",
      "sqft_living     101.6064      2.780     36.544      0.000      96.157     107.056\n",
      "sqft_lot         -0.0029      0.031     -0.092      0.927      -0.064       0.058\n",
      "floors         2.492e+04   2833.736      8.794      0.000    1.94e+04    3.05e+04\n",
      "waterfront     2.022e+05    2.2e+04      9.204      0.000    1.59e+05    2.45e+05\n",
      "yr_renovated   1.009e+05   6744.622     14.962      0.000    8.77e+04    1.14e+05\n",
      "condition_num  4.368e+04   1868.331     23.379      0.000       4e+04    4.73e+04\n",
      "grade_num      8.553e+04   1697.098     50.397      0.000    8.22e+04    8.89e+04\n",
      "sqft_basement  4.708e+04   2661.184     17.693      0.000    4.19e+04    5.23e+04\n",
      "==============================================================================\n",
      "Omnibus:                      805.029   Durbin-Watson:                   2.012\n",
      "Prob(Omnibus):                  0.000   Jarque-Bera (JB):              980.049\n",
      "Skew:                           0.522   Prob(JB):                    1.53e-213\n",
      "Kurtosis:                       3.590   Cond. No.                     7.74e+05\n",
      "==============================================================================\n",
      "\n",
      "Notes:\n",
      "[1] Standard Errors assume that the covariance matrix of the errors is correctly specified.\n",
      "[2] The condition number is large, 7.74e+05. This might indicate that there are\n",
      "strong multicollinearity or other numerical problems.\n"
     ]
    }
   ],
   "source": [
    "# Add a constant term to the features for OLS (both training and testing sets)\n",
    "X_train_clean = sm.add_constant(X_train_clean)\n",
    "X_test_clean = sm.add_constant(X_test_clean)\n",
    "\n",
    "# Fit an OLS model using cleaned data\n",
    "model_clean = sm.OLS(y_train_clean, X_train_clean).fit()\n",
    "\n",
    "# Calculate predictions on training and testing sets for the cleaned model\n",
    "y_train_pred_clean = model_clean.predict(X_train_clean)\n",
    "y_test_pred_clean = model_clean.predict(X_test_clean)\n",
    "\n",
    "# Calculate RMSE for training and testing sets for the cleaned model\n",
    "train_rmse_clean = np.sqrt(mean_squared_error(y_train_clean, y_train_pred_clean))\n",
    "test_rmse_clean = np.sqrt(mean_squared_error(y_test_clean, y_test_pred_clean))\n",
    "\n",
    "# Print RMSE values and model summaries for the cleaned model\n",
    "print(\"Model with Outliers Removed - Train RMSE:\", train_rmse_clean)\n",
    "print(\"Model with Outliers Removed - Test RMSE:\", test_rmse_clean)\n",
    "print(model_clean.summary())\n"
   ]
  },
  {
   "cell_type": "code",
   "execution_count": 61,
   "metadata": {
    "colab": {
     "base_uri": "https://localhost:8080/",
     "height": 561
    },
    "id": "fRiiE_MvT0o3",
    "outputId": "f7f5b6c5-5fd3-4c29-da4a-47241fa92dd4"
   },
   "outputs": [
    {
     "name": "stderr",
     "output_type": "stream",
     "text": [
      "<ipython-input-51-cef8f32ba813>:14: UserWarning: Matplotlib is currently using module://ipykernel.pylab.backend_inline, which is a non-GUI backend, so cannot show the figure.\n",
      "  fig.show()\n"
     ]
    },
    {
     "data": {
      "image/png": "[encoded data removed]",
      "text/plain": [
       "<Figure size 864x432 with 2 Axes>"
      ]
     },
     "metadata": {
      "needs_background": "light"
     },
     "output_type": "display_data"
    }
   ],
   "source": [
    "qq_plot(model_clean);"
   ]
  },
  {
   "cell_type": "code",
   "execution_count": 62,
   "metadata": {
    "colab": {
     "base_uri": "https://localhost:8080/",
     "height": 546
    },
    "id": "ljVumjhYAIgk",
    "outputId": "7239b590-d7b0-4791-bd21-4e9d621a558b"
   },
   "outputs": [
    {
     "name": "stderr",
     "output_type": "stream",
     "text": [
      "<ipython-input-55-539f0926a515>:22: UserWarning: Matplotlib is currently using module://ipykernel.pylab.backend_inline, which is a non-GUI backend, so cannot show the figure.\n",
      "  fig.show()\n"
     ]
    },
    {
     "data": {
      "image/png": "[encoded data removed]",
      "text/plain": [
       "<Figure size 864x432 with 2 Axes>"
      ]
     },
     "metadata": {
      "needs_background": "light"
     },
     "output_type": "display_data"
    }
   ],
   "source": [
    "residual_plot_log(X_train_clean, X_test_clean, y_train_clean, y_test_clean);\n"
   ]
  },
  {
   "cell_type": "markdown",
   "metadata": {
    "id": "lTG_n0-50tMq"
   },
   "source": [
    "We will try to do a log transformation to normalize the data"
   ]
  },
  {
   "cell_type": "code",
   "execution_count": 64,
   "metadata": {
    "id": "rU4PQszQPI9H"
   },
   "outputs": [],
   "source": [
    "# Normalize (Subtracting mean and divide by STD)\n",
    "\n",
    "def normalize(feature):\n",
    "    return (feature - feature.mean()) / feature.std()"
   ]
  },
  {
   "cell_type": "code",
   "execution_count": 65,
   "metadata": {
    "colab": {
     "base_uri": "https://localhost:8080/"
    },
    "id": "ZUHzT1DLW2B4",
    "outputId": "a0b111fb-a173-4809-81df-1889c7010200"
   },
   "outputs": [
    {
     "data": {
      "text/plain": [
       "Index(['bedrooms', 'bathrooms', 'sqft_living', 'sqft_lot', 'floors',\n",
       "       'waterfront', 'yr_renovated', 'condition_num', 'grade_num',\n",
       "       'sqft_basement'],\n",
       "      dtype='object')"
      ]
     },
     "execution_count": 65,
     "metadata": {},
     "output_type": "execute_result"
    }
   ],
   "source": [
    "X_clean.columns"
   ]
  },
  {
   "cell_type": "code",
   "execution_count": 66,
   "metadata": {
    "id": "eaDG2ZoHR5D7"
   },
   "outputs": [],
   "source": [
    "#Step 1: Log-transform the target variable\n",
    "y_clean_log = np.log(y_clean)\n",
    "data_cat = X_clean[['waterfront', 'yr_renovated', 'condition_num', 'grade_num', 'sqft_basement']]\n",
    "\n",
    "X_clean_df = X_clean[['bedrooms', 'bathrooms', 'sqft_living', 'sqft_lot', 'floors']]\n",
    "#log features\n",
    "log_names = [f'{column}_log' for column in X_clean_df.columns]\n",
    "X_clean_df= np.log(X_clean_df)\n",
    "\n",
    "X_clean = X_clean.apply(normalize)\n",
    "X_clean = pd.concat([X_clean_df, data_cat], axis=1)\n"
   ]
  },
  {
   "cell_type": "code",
   "execution_count": 67,
   "metadata": {
    "colab": {
     "base_uri": "https://localhost:8080/"
    },
    "id": "6ubz7hn_OnI4",
    "outputId": "411fc251-0973-463d-f2c9-e83eb26f59c7"
   },
   "outputs": [
    {
     "name": "stdout",
     "output_type": "stream",
     "text": [
      "Train RMSE: 0.3183210543467515\n",
      "Test RMSE: 0.31652284300899786\n",
      "                            OLS Regression Results                            \n",
      "==============================================================================\n",
      "Dep. Variable:                  price   R-squared:                       0.491\n",
      "Model:                            OLS   Adj. R-squared:                  0.491\n",
      "Method:                 Least Squares   F-statistic:                     1578.\n",
      "Date:                Sun, 10 Sep 2023   Prob (F-statistic):               0.00\n",
      "Time:                        15:15:27   Log-Likelihood:                -4483.3\n",
      "No. Observations:               16348   AIC:                             8989.\n",
      "Df Residuals:                   16337   BIC:                             9073.\n",
      "Df Model:                          10                                         \n",
      "Covariance Type:            nonrobust                                         \n",
      "=================================================================================\n",
      "                    coef    std err          t      P>|t|      [0.025      0.975]\n",
      "---------------------------------------------------------------------------------\n",
      "const             8.3078      0.074    112.295      0.000       8.163       8.453\n",
      "bedrooms         -0.1342      0.012    -11.203      0.000      -0.158      -0.111\n",
      "bathrooms        -0.1000      0.011     -9.333      0.000      -0.121      -0.079\n",
      "sqft_living       0.4583      0.014     33.900      0.000       0.432       0.485\n",
      "sqft_lot         -0.0353      0.003    -10.332      0.000      -0.042      -0.029\n",
      "floors            0.0727      0.010      6.985      0.000       0.052       0.093\n",
      "waterfront        0.4193      0.048      8.779      0.000       0.326       0.513\n",
      "yr_renovated      0.1853      0.015     12.662      0.000       0.157       0.214\n",
      "condition_num     0.0921      0.004     22.708      0.000       0.084       0.100\n",
      "grade_num         0.1836      0.004     50.537      0.000       0.177       0.191\n",
      "sqft_basement     0.1017      0.006     16.323      0.000       0.089       0.114\n",
      "==============================================================================\n",
      "Omnibus:                       22.098   Durbin-Watson:                   2.015\n",
      "Prob(Omnibus):                  0.000   Jarque-Bera (JB):               21.732\n",
      "Skew:                          -0.077   Prob(JB):                     1.91e-05\n",
      "Kurtosis:                       2.910   Cond. No.                         437.\n",
      "==============================================================================\n",
      "\n",
      "Notes:\n",
      "[1] Standard Errors assume that the covariance matrix of the errors is correctly specified.\n"
     ]
    }
   ],
   "source": [
    "\n",
    "# Step 2: Split the data into training and testing sets\n",
    "X_train_log, X_test_log, y_train_log, y_test_log = train_test_split(X_clean, y_clean_log, test_size=0.2, random_state=42)\n",
    "\n",
    "# Step 3: Add a constant term to the features for OLS\n",
    "X_train_log = sm.add_constant(X_train_log)\n",
    "X_test_log = sm.add_constant(X_test_log)\n",
    "\n",
    "# Step 4: Fit an OLS model using the log-transformed target variable\n",
    "model_log = sm.OLS(y_train_log, X_train_log).fit()\n",
    "\n",
    "# Step 5: Calculate predictions on training and testing sets\n",
    "y_train_pred_log = model_log.predict(X_train_log)\n",
    "y_test_pred_log = model_log.predict(X_test_log)\n",
    "\n",
    "# Step 6: Calculate RMSE for training and testing sets\n",
    "train_rmse_log = np.sqrt(mean_squared_error(y_train_log, y_train_pred_log))\n",
    "test_rmse_log = np.sqrt(mean_squared_error(y_test_log, y_test_pred_log))\n",
    "\n",
    "# Step 7: Print the RMSE values and model summary\n",
    "print(\"Train RMSE:\", train_rmse_log)\n",
    "print(\"Test RMSE:\", test_rmse_log)\n",
    "print(model_log.summary())"
   ]
  },
  {
   "cell_type": "code",
   "execution_count": 68,
   "metadata": {
    "colab": {
     "base_uri": "https://localhost:8080/",
     "height": 561
    },
    "id": "wLyUb-TfUU1A",
    "outputId": "527ecdaa-5746-479c-a352-3da6c5737eb7"
   },
   "outputs": [
    {
     "name": "stderr",
     "output_type": "stream",
     "text": [
      "<ipython-input-51-cef8f32ba813>:14: UserWarning: Matplotlib is currently using module://ipykernel.pylab.backend_inline, which is a non-GUI backend, so cannot show the figure.\n",
      "  fig.show()\n"
     ]
    },
    {
     "data": {
      "image/png": "[encoded data removed]",
      "text/plain": [
       "<Figure size 864x432 with 2 Axes>"
      ]
     },
     "metadata": {
      "needs_background": "light"
     },
     "output_type": "display_data"
    }
   ],
   "source": [
    "qq_plot(model_log);\n"
   ]
  },
  {
   "cell_type": "code",
   "execution_count": 69,
   "metadata": {
    "colab": {
     "base_uri": "https://localhost:8080/",
     "height": 300
    },
    "id": "P82LTwdGTgcD",
    "outputId": "dba9749d-b954-4862-adaf-d6f83c995af6"
   },
   "outputs": [
    {
     "data": {
      "text/html": [
       "<div>\n",
       "<style scoped>\n",
       "    .dataframe tbody tr th:only-of-type {\n",
       "        vertical-align: middle;\n",
       "    }\n",
       "\n",
       "    .dataframe tbody tr th {\n",
       "        vertical-align: top;\n",
       "    }\n",
       "\n",
       "    .dataframe thead th {\n",
       "        text-align: right;\n",
       "    }\n",
       "</style>\n",
       "<table border=\"1\" class=\"dataframe\">\n",
       "  <thead>\n",
       "    <tr style=\"text-align: right;\">\n",
       "      <th></th>\n",
       "      <th>Actual</th>\n",
       "      <th>Predicted</th>\n",
       "    </tr>\n",
       "  </thead>\n",
       "  <tbody>\n",
       "    <tr>\n",
       "      <th>count</th>\n",
       "      <td>4088.000000</td>\n",
       "      <td>4088.000000</td>\n",
       "    </tr>\n",
       "    <tr>\n",
       "      <th>mean</th>\n",
       "      <td>12.985551</td>\n",
       "      <td>12.979645</td>\n",
       "    </tr>\n",
       "    <tr>\n",
       "      <th>std</th>\n",
       "      <td>0.440926</td>\n",
       "      <td>0.309062</td>\n",
       "    </tr>\n",
       "    <tr>\n",
       "      <th>min</th>\n",
       "      <td>11.338572</td>\n",
       "      <td>11.691978</td>\n",
       "    </tr>\n",
       "    <tr>\n",
       "      <th>25%</th>\n",
       "      <td>12.676076</td>\n",
       "      <td>12.777906</td>\n",
       "    </tr>\n",
       "    <tr>\n",
       "      <th>50%</th>\n",
       "      <td>12.994530</td>\n",
       "      <td>12.968286</td>\n",
       "    </tr>\n",
       "    <tr>\n",
       "      <th>75%</th>\n",
       "      <td>13.307390</td>\n",
       "      <td>13.166854</td>\n",
       "    </tr>\n",
       "    <tr>\n",
       "      <th>max</th>\n",
       "      <td>13.928839</td>\n",
       "      <td>14.157895</td>\n",
       "    </tr>\n",
       "  </tbody>\n",
       "</table>\n",
       "</div>"
      ],
      "text/plain": [
       "            Actual    Predicted\n",
       "count  4088.000000  4088.000000\n",
       "mean     12.985551    12.979645\n",
       "std       0.440926     0.309062\n",
       "min      11.338572    11.691978\n",
       "25%      12.676076    12.777906\n",
       "50%      12.994530    12.968286\n",
       "75%      13.307390    13.166854\n",
       "max      13.928839    14.157895"
      ]
     },
     "execution_count": 69,
     "metadata": {},
     "output_type": "execute_result"
    }
   ],
   "source": [
    "#let's compare our predicted results to the actual data from the test set:\n",
    "y_test_array = y_test_log.to_numpy()\n",
    "y_pred_array = y_test_pred_log.to_numpy()\n",
    "# Compare actual and predicted values\n",
    "comparison_frame = pd.DataFrame({'Actual': y_test_array.flatten(), 'Predicted': y_pred_array.flatten()})\n",
    "\n",
    "# Now you can describe the comparison_frame\n",
    "comparison_frame.describe()"
   ]
  },
  {
   "cell_type": "markdown",
   "metadata": {},
   "source": [
    "## Observations\n",
    "\n",
    "On our model 1, we have an R-squared value of 0.491 meaning that 49.1% of variation in price is due to the independent variables.\n",
    "\n",
    "The RMSE of the train set is 0.3183210543467515 and the RMSE of test set is 0.31652284300899786. \n",
    "\n",
    "Model 1 also has a skew of -0.077 which is not very significant. The data is more normally distributed\n",
    "\n",
    "It has a high Kurtosis of 2.910 indicating the dataset has few outliers.\n"
   ]
  },
  {
   "cell_type": "markdown",
   "metadata": {},
   "source": [
    "## Conclusion"
   ]
  },
  {
   "cell_type": "markdown",
   "metadata": {},
   "source": [
    "The r squared of model one is 0.491 compared to 0.493 of our baseline model.\n",
    "Though its a bit less than the baseline model, however the difference is not substantial.\n",
    "\n",
    "\"Model one\" is considered a better model than the \"baseline model\" for several reasons, despite a slightly lower R²:\n",
    "It has significantly lower kurtosis, indicating that its residuals are closer to a normal distribution, which is an assumption of linear regression.\n",
    "It also has lower skewness, suggesting a more symmetric distribution of residuals.\n",
    "\n"
   ]
  },
  {
   "cell_type": "markdown",
   "metadata": {
    "id": "iEY3jpB1zwFU"
   },
   "source": [
    "## Recomendations"
   ]
  },
  {
   "cell_type": "markdown",
   "metadata": {},
   "source": [
    "From the regression model we can interpret that features that improve household value are in decending priority:\n",
    "\n",
    "1. Squarefoot living \n",
    "2. Waterfront\n",
    "3. Grade of the house\n",
    "4. Renovation\n",
    "\n",
    "The homeowner should focus on these features when renovating the house for maximum profits"
   ]
  },
  {
   "cell_type": "code",
   "execution_count": null,
   "metadata": {},
   "outputs": [],
   "source": []
  }
 ],
 "metadata": {
  "colab": {
   "provenance": []
  },
  "kernelspec": {
   "display_name": "Python 3",
   "language": "python",
   "name": "python3"
  },
  "language_info": {
   "codemirror_mode": {
    "name": "ipython",
    "version": 3
   },
   "file_extension": ".py",
   "mimetype": "text/x-python",
   "name": "python",
   "nbconvert_exporter": "python",
   "pygments_lexer": "ipython3",
   "version": "3.8.5"
  }
 },
 "nbformat": 4,
 "nbformat_minor": 1
}
